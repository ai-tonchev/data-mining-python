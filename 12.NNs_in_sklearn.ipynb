{
 "cells": [
  {
   "cell_type": "markdown",
   "metadata": {},
   "source": [
    "## Невронни мрежи в Scikit-Learn\n",
    "\n",
    "В предишното упражнение съставихме относително проста невронна мрежа на ниско ниво, съставено от математически формули. Въпреки това, библиотеки като scikit-learn предоставят вече готови методи и класове за обучаване на невронни мрежи."
   ]
  },
  {
   "cell_type": "code",
   "execution_count": 1,
   "metadata": {},
   "outputs": [],
   "source": [
    "import pandas as pd\n",
    "import numpy as np\n",
    "import matplotlib.pyplot as plt\n",
    "import seaborn as sns"
   ]
  },
  {
   "cell_type": "markdown",
   "metadata": {},
   "source": [
    "Нека пресъздадем невронната мрежа от ЛУ 11:"
   ]
  },
  {
   "cell_type": "code",
   "execution_count": 2,
   "metadata": {},
   "outputs": [],
   "source": [
    "iris = sns.load_dataset('iris')"
   ]
  },
  {
   "cell_type": "code",
   "execution_count": 3,
   "metadata": {},
   "outputs": [],
   "source": [
    "X = iris.iloc[:,:4]\n",
    "y = iris.species"
   ]
  },
  {
   "cell_type": "markdown",
   "metadata": {},
   "source": [
    "Създаваме и тренираме модела си по стандартните за scikit-learn методи. Вместо нормално снижаване на градиента ще изпозлваме оптимизирана негова версия, стохастично снижаване на градиента (stochastic gradient descent), което е същото като принцип. Тъй като класът на sklearn предлага възможности за динамична оптимизация на учебната скорост, ще зададем константна learning_rate от 0.5 (както в оригиналния ни модел). Епохите на обучение тук се задават с max_iter. Ще зададем и сийд за генерация на произволни числа, за да може още по-близко да възпроизведем изначалната си мрежа. Друга оптимизация в алгоритъма на sklearn е автоматичното прекратяване на обучението, когато мрежата не е подобрила точността си с толерантност tol в продължение на n_iter_no_change на брой епохи. Задавайки стойността на n_iter_no_change като равна на max_iter, ние на практика изключваме възможността за автоматично прекратяване на обучението."
   ]
  },
  {
   "cell_type": "code",
   "execution_count": 4,
   "metadata": {},
   "outputs": [],
   "source": [
    "from sklearn.neural_network import MLPClassifier\n",
    "mlpc = MLPClassifier(\n",
    "    hidden_layer_sizes=(40, 40),\n",
    "    activation = 'logistic', # друг термин за сигмоида\n",
    "    solver = 'sgd',\n",
    "    learning_rate = 'constant',\n",
    "    learning_rate_init = .5,\n",
    "    max_iter = 1000,\n",
    "    random_state = 42,\n",
    "    tol = 0.0001,\n",
    "    n_iter_no_change = 1000\n",
    ")"
   ]
  },
  {
   "cell_type": "markdown",
   "metadata": {},
   "source": [
    "Нека обучим мрежата си и проверим нейните резултати:"
   ]
  },
  {
   "cell_type": "code",
   "execution_count": 5,
   "metadata": {},
   "outputs": [
    {
     "name": "stderr",
     "output_type": "stream",
     "text": [
      "c:\\Users\\Atanas\\anaconda3\\lib\\site-packages\\sklearn\\neural_network\\_multilayer_perceptron.py:692: ConvergenceWarning: Stochastic Optimizer: Maximum iterations (1000) reached and the optimization hasn't converged yet.\n",
      "  warnings.warn(\n"
     ]
    },
    {
     "data": {
      "text/plain": [
       "0.9866666666666667"
      ]
     },
     "execution_count": 5,
     "metadata": {},
     "output_type": "execute_result"
    }
   ],
   "source": [
    "mlpc.fit(X,y)\n",
    "mlpc.score(X,y)"
   ]
  },
  {
   "cell_type": "markdown",
   "metadata": {},
   "source": [
    "Както виждаме, мрежата има доста близък успех до тази от миналия път (дори е малко по-точна). Получаваме и предупреждение, предизвикано от факта, че обучението не е приключило само. Ще използваме библиотеката warnings за да не получаваме такива известия в бъдеще."
   ]
  },
  {
   "cell_type": "code",
   "execution_count": 6,
   "metadata": {},
   "outputs": [],
   "source": [
    "import warnings\n",
    "from sklearn.exceptions import ConvergenceWarning\n",
    "warnings.filterwarnings(action='ignore', category=ConvergenceWarning)"
   ]
  },
  {
   "cell_type": "markdown",
   "metadata": {},
   "source": [
    "Сега нека се опитаме да създадем по-традиционна за sklearn мрежа с подобни хиперпараметри на горната:"
   ]
  },
  {
   "cell_type": "code",
   "execution_count": 7,
   "metadata": {},
   "outputs": [
    {
     "data": {
      "text/plain": [
       "0.9866666666666667"
      ]
     },
     "execution_count": 7,
     "metadata": {},
     "output_type": "execute_result"
    }
   ],
   "source": [
    "mlpc = MLPClassifier(\n",
    "    hidden_layer_sizes=(40, 40),\n",
    "    activation='logistic',\n",
    "    solver = 'adam',\n",
    "    learning_rate = 'constant',\n",
    "    learning_rate_init = .001,\n",
    "    max_iter=250,\n",
    "    random_state=42,\n",
    "    tol = .0001,\n",
    "    n_iter_no_change = 10\n",
    ")\n",
    "mlpc.fit(X,y)\n",
    "mlpc.score(X,y)"
   ]
  },
  {
   "cell_type": "markdown",
   "metadata": {},
   "source": [
    "Виждаме същия успех, но с по-малко итерации. Сега нека проверим успеваемостта на различните оптимизатори в еднакви условия:"
   ]
  },
  {
   "cell_type": "code",
   "execution_count": 8,
   "metadata": {},
   "outputs": [
    {
     "name": "stdout",
     "output_type": "stream",
     "text": [
      "Optimizer sgd scored 0.33.\n",
      "Optimizer adam scored 0.98.\n",
      "Optimizer lbfgs scored 1.0.\n"
     ]
    }
   ],
   "source": [
    "for optimizer in ['sgd', 'adam', 'lbfgs']:\n",
    "\n",
    "\n",
    "    mlpc = MLPClassifier(\n",
    "        hidden_layer_sizes=(40, 40),\n",
    "        activation='logistic',\n",
    "        solver = optimizer,\n",
    "        learning_rate = 'constant',\n",
    "        learning_rate_init = .001,\n",
    "        max_iter=200,\n",
    "        random_state=42,\n",
    "        tol = 0.0001,\n",
    "        n_iter_no_change = 10\n",
    "    )\n",
    "\n",
    "    mlpc.fit(X,y)\n",
    "    score = mlpc.score(X,y)\n",
    "\n",
    "    print(f'Optimizer {optimizer} scored {round(score, 2)}.')"
   ]
  },
  {
   "cell_type": "markdown",
   "metadata": {},
   "source": [
    "Виждаме голяма разлика. Сега нека засечем колко време отнема всеки."
   ]
  },
  {
   "cell_type": "code",
   "execution_count": 9,
   "metadata": {},
   "outputs": [
    {
     "name": "stdout",
     "output_type": "stream",
     "text": [
      "Optimizer sgd scored 0.33. Training took 0:00:00.020499.\n",
      "Optimizer adam scored 0.98. Training took 0:00:00.092021.\n",
      "Optimizer lbfgs scored 1.0. Training took 0:00:00.108026.\n"
     ]
    }
   ],
   "source": [
    "from datetime import datetime\n",
    "\n",
    "for optimizer in ['sgd', 'adam', 'lbfgs']:\n",
    "\n",
    "    train_start = datetime.now()\n",
    "\n",
    "    mlpc = MLPClassifier(\n",
    "        hidden_layer_sizes=(40, 40),\n",
    "        activation='logistic',\n",
    "        solver = optimizer,\n",
    "        learning_rate = 'constant',\n",
    "        learning_rate_init = .001,\n",
    "        max_iter=200,\n",
    "        random_state=42,\n",
    "        tol = 0.0001,\n",
    "        n_iter_no_change = 10\n",
    "    )\n",
    "\n",
    "    mlpc.fit(X,y)\n",
    "    score = mlpc.score(X,y)\n",
    "\n",
    "    train_end = datetime.now()\n",
    "    train_delta = train_end - train_start\n",
    "    print(f'Optimizer {optimizer} scored {round(score, 2)}. Training took {train_delta}.')"
   ]
  },
  {
   "cell_type": "markdown",
   "metadata": {},
   "source": [
    "Забелязваме, че макар sgd да е по-неточен, той е доста по-бърз и може да е по-полезен в някои ситуации. Както видяхме, той може да постигне също толкова добри резултати колкото и другите оптимизатори, стига да му се оставят повече епохи. Нека опитаме да адресираме това като зададем по-висока толерантност (т.е. по-ниски стойности на оптимизация, които алгоритъмът да очаква)."
   ]
  },
  {
   "cell_type": "code",
   "execution_count": 10,
   "metadata": {},
   "outputs": [
    {
     "name": "stdout",
     "output_type": "stream",
     "text": [
      "Optimizer sgd with tolerance 0.0001 scored 0.33. Training took 0:00:00.019005.\n",
      "Optimizer sgd with tolerance 1e-05 scored 0.71. Training took 0:00:00.829992.\n",
      "Optimizer sgd with tolerance 1e-06 scored 0.71. Training took 0:00:00.808060.\n",
      "Optimizer sgd with tolerance 1e-07 scored 0.71. Training took 0:00:00.806548.\n"
     ]
    }
   ],
   "source": [
    "for tol in [.0001, .00001, .000001, 1e-7]:\n",
    "    train_start = datetime.now()\n",
    "\n",
    "    mlpc = MLPClassifier(\n",
    "        hidden_layer_sizes=(40, 40),\n",
    "        activation='logistic',\n",
    "        solver = 'sgd',\n",
    "        learning_rate = 'constant',\n",
    "        learning_rate_init = .001,\n",
    "        max_iter=2000,\n",
    "        random_state=42,\n",
    "        tol = tol,\n",
    "        n_iter_no_change = 10\n",
    "    )\n",
    "\n",
    "    mlpc.fit(X,y)\n",
    "    score = mlpc.score(X,y)\n",
    "\n",
    "    train_end = datetime.now()\n",
    "    train_delta = train_end - train_start\n",
    "    print(f'Optimizer sgd with tolerance {tol} scored {round(score, 2)}. Training took {train_delta}.')\n"
   ]
  },
  {
   "cell_type": "markdown",
   "metadata": {},
   "source": [
    "Имаме подобрение, но бързо удряме таван, някъде между 1е-4 и 1е-5. Нека намерим оптималната толерантност за нашата мрежа."
   ]
  },
  {
   "cell_type": "code",
   "execution_count": 11,
   "metadata": {},
   "outputs": [
    {
     "data": {
      "image/png": "[encoded data removed]",
      "text/plain": [
       "<Figure size 432x288 with 1 Axes>"
      ]
     },
     "metadata": {
      "needs_background": "light"
     },
     "output_type": "display_data"
    }
   ],
   "source": [
    "tolerances = np.linspace(1e-4, 1e-5, 20)\n",
    "scores = []\n",
    "\n",
    "for tol in tolerances:\n",
    "\n",
    "    mlpc = MLPClassifier(\n",
    "        hidden_layer_sizes=(40, 40),\n",
    "        activation='logistic',\n",
    "        solver = 'sgd',\n",
    "        learning_rate = 'constant',\n",
    "        learning_rate_init = .001,\n",
    "        max_iter=2000,\n",
    "        random_state=42,\n",
    "        tol = tol,\n",
    "        n_iter_no_change = 10\n",
    "    )\n",
    "\n",
    "    mlpc.fit(X,y)\n",
    "    score = mlpc.score(X,y)\n",
    "\n",
    "    scores.append(score)\n",
    "\n",
    "elbow_graph = plt.plot(\n",
    "    tolerances,\n",
    "    scores,\n",
    "    color = 'g'\n",
    ")"
   ]
  },
  {
   "cell_type": "markdown",
   "metadata": {},
   "source": [
    "Виждаме, че таванът на ефикасност е много близко до 1e-5, така че можем да го оставим там. Подобни тестове можем да направим за всеки хиперпараметър в [документацията на класа](https://scikit-learn.org/stable/modules/generated/sklearn.neural_network.MLPClassifier.html)."
   ]
  },
  {
   "cell_type": "markdown",
   "metadata": {},
   "source": [
    "### Разпознаване на изображения\n",
    "\n",
    "Вече видяхме, че можем спокойно да използваме невронни мрежи за класически машинни задачи като класифициране. Сега нека опитаме да решим доста по-сложна задача: разпознаване на изображения. Първо, нека заредим пробен набор от данни: "
   ]
  },
  {
   "cell_type": "code",
   "execution_count": 12,
   "metadata": {},
   "outputs": [
    {
     "data": {
      "text/plain": [
       "(70000, 784)"
      ]
     },
     "execution_count": 12,
     "metadata": {},
     "output_type": "execute_result"
    }
   ],
   "source": [
    "import matplotlib.pyplot as plt\n",
    "from sklearn.datasets import fetch_openml\n",
    "from sklearn.neural_network import MLPClassifier\n",
    "from sklearn.model_selection import train_test_split\n",
    "\n",
    "# Зареждаме данни от https://www.openml.org/d/554\n",
    "X, y = fetch_openml(\n",
    "    \"mnist_784\", version=1, return_X_y=True, as_frame=False\n",
    ")\n",
    "X = X / 255.0\n",
    "X.shape\n"
   ]
  },
  {
   "cell_type": "markdown",
   "metadata": {},
   "source": [
    "MNIST е известен обучителен набор данни, Х е матрица от 70000 черно-бели изображения от по 784 пиксела (0 = черно, .5=сиво, 1 = бяло). Всяка матрица представлява изображение на ръкописна цифра, а всяко съответстващо у е нейният етикет, т.е. какво изобразява снимката."
   ]
  },
  {
   "cell_type": "code",
   "execution_count": 13,
   "metadata": {},
   "outputs": [
    {
     "name": "stdout",
     "output_type": "stream",
     "text": [
      "Label:  0\n"
     ]
    },
    {
     "data": {
      "image/png": "[encoded data removed]",
      "text/plain": [
       "<Figure size 432x288 with 1 Axes>"
      ]
     },
     "metadata": {
      "needs_background": "light"
     },
     "output_type": "display_data"
    }
   ],
   "source": [
    "plt.imshow(\n",
    "    X[1].reshape(28,28), \n",
    "    cmap='gray'\n",
    ") #За да нарисуваме изображението с pyplot първо трябва да го сложим в две измерения (28х28 пиксела). Cmap = 'grey' задава стойностите да бъдат начертаниот черно към бяло.\n",
    "print('Label: ', y[1])\n",
    "plt.show()"
   ]
  },
  {
   "cell_type": "markdown",
   "metadata": {},
   "source": [
    "Тренираме модел, както горе. Обърнете внимание на високия процент тестови данни: това е поради сериозния размер на цялостния набор.\n",
    "\n",
    "Въвели сме и доста повече параметри:\n",
    "- max_iter - максималният брой на обратни разпространения на грешката\n",
    "- solver - Това е методът с който променяме тежестите и отклоненията на нашата мрежа. В случая сме избрали 'sdg', Stochastic Gradient Descent\n",
    "- verbose - дали да получаваме системни съобщения\n",
    "- random_state - Подсигурява единни псевдопроизволни стартови тежести и отклонения и следователно репликация на невронната мрежа\n",
    "- learning_rate_init - настройва скоростта на учене на мрежата (когато използваме sgd)\n"
   ]
  },
  {
   "cell_type": "code",
   "execution_count": 14,
   "metadata": {},
   "outputs": [
    {
     "name": "stdout",
     "output_type": "stream",
     "text": [
      "Iteration 1, loss = 0.43876685\n",
      "Iteration 2, loss = 0.18161919\n",
      "Iteration 3, loss = 0.13374561\n",
      "Iteration 4, loss = 0.10868499\n",
      "Iteration 5, loss = 0.09370377\n",
      "Iteration 6, loss = 0.07700252\n",
      "Iteration 7, loss = 0.06711732\n",
      "Iteration 8, loss = 0.05950473\n",
      "Iteration 9, loss = 0.04724625\n",
      "Iteration 10, loss = 0.03772541\n",
      "Iteration 11, loss = 0.03398228\n",
      "Iteration 12, loss = 0.02792381\n",
      "Iteration 13, loss = 0.02417733\n",
      "Training set score: 0.995048\n",
      "Test set score: 0.956918\n"
     ]
    }
   ],
   "source": [
    "X_train, X_test, y_train, y_test = train_test_split(X, y, random_state=0, test_size=0.7)\n",
    "\n",
    "mlp = MLPClassifier(\n",
    "    hidden_layer_sizes=(40,),\n",
    "    max_iter=13,\n",
    "    solver=\"sgd\",\n",
    "    verbose=True, # verbose ни дава повече информация за всяка итерация\n",
    "    random_state=42,\n",
    "    learning_rate_init=0.2\n",
    ")\n",
    "\n",
    "mlp.fit(X_train, y_train)\n",
    "\n",
    "print(\"Training set score: %f\" % mlp.score(X_train, y_train))\n",
    "print(\"Test set score: %f\" % mlp.score(X_test, y_test))\n",
    "\n"
   ]
  },
  {
   "cell_type": "markdown",
   "metadata": {},
   "source": [
    "Можем да извикаме теглата си с атрибуте coef_ и отклоненията си с intercepts_"
   ]
  },
  {
   "cell_type": "code",
   "execution_count": 15,
   "metadata": {},
   "outputs": [
    {
     "data": {
      "text/plain": [
       "(784, 40)"
      ]
     },
     "execution_count": 15,
     "metadata": {},
     "output_type": "execute_result"
    }
   ],
   "source": [
    "mlp.coefs_[0].shape"
   ]
  },
  {
   "cell_type": "code",
   "execution_count": 16,
   "metadata": {},
   "outputs": [
    {
     "data": {
      "text/plain": [
       "(40,)"
      ]
     },
     "execution_count": 16,
     "metadata": {},
     "output_type": "execute_result"
    }
   ],
   "source": [
    "mlp.intercepts_[0].shape"
   ]
  },
  {
   "cell_type": "markdown",
   "metadata": {},
   "source": [
    "Можем да начертаем самите коефициенти като изображения. Тази способност да чертаем правилата на невронни мрежи е в основата на машинната генерация на изображения."
   ]
  },
  {
   "cell_type": "code",
   "execution_count": 17,
   "metadata": {},
   "outputs": [
    {
     "data": {
      "image/png": "[encoded data removed]",
      "text/plain": [
       "<Figure size 432x288 with 16 Axes>"
      ]
     },
     "metadata": {},
     "output_type": "display_data"
    }
   ],
   "source": [
    "fig, axes = plt.subplots(4, 4)\n",
    "\n",
    "vmin, vmax = mlp.coefs_[0].min(), mlp.coefs_[0].max()\n",
    "\n",
    "for coef, ax in zip(mlp.coefs_[0].T, axes.ravel()):\n",
    "    ax.matshow(coef.reshape(28, 28), cmap='gray')\n",
    "    ax.set_xticks(())\n",
    "    ax.set_yticks(())\n",
    "\n",
    "plt.show()"
   ]
  },
  {
   "cell_type": "markdown",
   "metadata": {},
   "source": [
    "Както обикновено, можем да предвидим резултатите си чрез predict:"
   ]
  },
  {
   "cell_type": "code",
   "execution_count": 18,
   "metadata": {},
   "outputs": [
    {
     "data": {
      "text/plain": [
       "'0'"
      ]
     },
     "execution_count": 18,
     "metadata": {},
     "output_type": "execute_result"
    }
   ],
   "source": [
    "pred_y = mlp.predict(X)\n",
    "pred_y[1]"
   ]
  },
  {
   "cell_type": "markdown",
   "metadata": {},
   "source": [
    "Нека добавим предвидените и реалните стойности в единна таблица, редом със самите изображения. Х е единен масив и ще трябва да го разделим на броя на неговите редове чрез np.split:"
   ]
  },
  {
   "cell_type": "code",
   "execution_count": 19,
   "metadata": {},
   "outputs": [
    {
     "data": {
      "text/plain": [
       "(70000, 784)"
      ]
     },
     "execution_count": 19,
     "metadata": {},
     "output_type": "execute_result"
    }
   ],
   "source": [
    "X.shape"
   ]
  },
  {
   "cell_type": "code",
   "execution_count": 20,
   "metadata": {},
   "outputs": [
    {
     "data": {
      "text/plain": [
       "(1, 784)"
      ]
     },
     "execution_count": 20,
     "metadata": {},
     "output_type": "execute_result"
    }
   ],
   "source": [
    "X_as_list = np.split(X, X.shape[0])\n",
    "X_as_list[0].shape"
   ]
  },
  {
   "cell_type": "code",
   "execution_count": 21,
   "metadata": {},
   "outputs": [
    {
     "data": {
      "text/html": [
       "<div>\n",
       "<style scoped>\n",
       "    .dataframe tbody tr th:only-of-type {\n",
       "        vertical-align: middle;\n",
       "    }\n",
       "\n",
       "    .dataframe tbody tr th {\n",
       "        vertical-align: top;\n",
       "    }\n",
       "\n",
       "    .dataframe thead th {\n",
       "        text-align: right;\n",
       "    }\n",
       "</style>\n",
       "<table border=\"1\" class=\"dataframe\">\n",
       "  <thead>\n",
       "    <tr style=\"text-align: right;\">\n",
       "      <th></th>\n",
       "      <th>img</th>\n",
       "      <th>label</th>\n",
       "      <th>predicted</th>\n",
       "    </tr>\n",
       "  </thead>\n",
       "  <tbody>\n",
       "    <tr>\n",
       "      <th>0</th>\n",
       "      <td>[[0.0, 0.0, 0.0, 0.0, 0.0, 0.0, 0.0, 0.0, 0.0,...</td>\n",
       "      <td>5</td>\n",
       "      <td>3</td>\n",
       "    </tr>\n",
       "    <tr>\n",
       "      <th>1</th>\n",
       "      <td>[[0.0, 0.0, 0.0, 0.0, 0.0, 0.0, 0.0, 0.0, 0.0,...</td>\n",
       "      <td>0</td>\n",
       "      <td>0</td>\n",
       "    </tr>\n",
       "    <tr>\n",
       "      <th>2</th>\n",
       "      <td>[[0.0, 0.0, 0.0, 0.0, 0.0, 0.0, 0.0, 0.0, 0.0,...</td>\n",
       "      <td>4</td>\n",
       "      <td>4</td>\n",
       "    </tr>\n",
       "    <tr>\n",
       "      <th>3</th>\n",
       "      <td>[[0.0, 0.0, 0.0, 0.0, 0.0, 0.0, 0.0, 0.0, 0.0,...</td>\n",
       "      <td>1</td>\n",
       "      <td>1</td>\n",
       "    </tr>\n",
       "    <tr>\n",
       "      <th>4</th>\n",
       "      <td>[[0.0, 0.0, 0.0, 0.0, 0.0, 0.0, 0.0, 0.0, 0.0,...</td>\n",
       "      <td>9</td>\n",
       "      <td>9</td>\n",
       "    </tr>\n",
       "  </tbody>\n",
       "</table>\n",
       "</div>"
      ],
      "text/plain": [
       "                                                 img label predicted\n",
       "0  [[0.0, 0.0, 0.0, 0.0, 0.0, 0.0, 0.0, 0.0, 0.0,...     5         3\n",
       "1  [[0.0, 0.0, 0.0, 0.0, 0.0, 0.0, 0.0, 0.0, 0.0,...     0         0\n",
       "2  [[0.0, 0.0, 0.0, 0.0, 0.0, 0.0, 0.0, 0.0, 0.0,...     4         4\n",
       "3  [[0.0, 0.0, 0.0, 0.0, 0.0, 0.0, 0.0, 0.0, 0.0,...     1         1\n",
       "4  [[0.0, 0.0, 0.0, 0.0, 0.0, 0.0, 0.0, 0.0, 0.0,...     9         9"
      ]
     },
     "execution_count": 21,
     "metadata": {},
     "output_type": "execute_result"
    }
   ],
   "source": [
    "data_dict = {'img':X_as_list, 'label':y, 'predicted':pred_y}\n",
    "data = pd.DataFrame(data_dict)\n",
    "data.head()"
   ]
  },
  {
   "cell_type": "markdown",
   "metadata": {},
   "source": [
    "Вече можем лесно да начретаем всяко изображение редом с предвидената и реалната му стойност."
   ]
  },
  {
   "cell_type": "code",
   "execution_count": 22,
   "metadata": {},
   "outputs": [
    {
     "name": "stdout",
     "output_type": "stream",
     "text": [
      "Label:  0\n",
      "Predicted:  0\n"
     ]
    },
    {
     "data": {
      "image/png": "[encoded data removed]",
      "text/plain": [
       "<Figure size 432x288 with 1 Axes>"
      ]
     },
     "metadata": {
      "needs_background": "light"
     },
     "output_type": "display_data"
    }
   ],
   "source": [
    "plt.imshow(data.img[1].reshape(28,28), cmap='gray')\n",
    "print('Label: ',data.label[1])\n",
    "print('Predicted: ', data.predicted[1])\n",
    "plt.show()"
   ]
  },
  {
   "cell_type": "markdown",
   "metadata": {},
   "source": [
    "Създаваме колонка с верните и грешните предвиждания (където реалната стойнсот е равна или не на предвидената):"
   ]
  },
  {
   "cell_type": "code",
   "execution_count": 23,
   "metadata": {},
   "outputs": [
    {
     "data": {
      "text/plain": [
       "0    False\n",
       "1     True\n",
       "2     True\n",
       "3     True\n",
       "4     True\n",
       "Name: correct, dtype: bool"
      ]
     },
     "execution_count": 23,
     "metadata": {},
     "output_type": "execute_result"
    }
   ],
   "source": [
    "data['correct'] = data.label==data.predicted\n",
    "data.correct.head()"
   ]
  },
  {
   "cell_type": "markdown",
   "metadata": {},
   "source": [
    "Сега можем чрез филтриране да отделим и разгледаме само грешните предположения:"
   ]
  },
  {
   "cell_type": "code",
   "execution_count": 24,
   "metadata": {},
   "outputs": [
    {
     "data": {
      "text/html": [
       "<div>\n",
       "<style scoped>\n",
       "    .dataframe tbody tr th:only-of-type {\n",
       "        vertical-align: middle;\n",
       "    }\n",
       "\n",
       "    .dataframe tbody tr th {\n",
       "        vertical-align: top;\n",
       "    }\n",
       "\n",
       "    .dataframe thead th {\n",
       "        text-align: right;\n",
       "    }\n",
       "</style>\n",
       "<table border=\"1\" class=\"dataframe\">\n",
       "  <thead>\n",
       "    <tr style=\"text-align: right;\">\n",
       "      <th></th>\n",
       "      <th>img</th>\n",
       "      <th>label</th>\n",
       "      <th>predicted</th>\n",
       "      <th>correct</th>\n",
       "    </tr>\n",
       "  </thead>\n",
       "  <tbody>\n",
       "    <tr>\n",
       "      <th>0</th>\n",
       "      <td>[[0.0, 0.0, 0.0, 0.0, 0.0, 0.0, 0.0, 0.0, 0.0,...</td>\n",
       "      <td>5</td>\n",
       "      <td>3</td>\n",
       "      <td>False</td>\n",
       "    </tr>\n",
       "    <tr>\n",
       "      <th>24</th>\n",
       "      <td>[[0.0, 0.0, 0.0, 0.0, 0.0, 0.0, 0.0, 0.0, 0.0,...</td>\n",
       "      <td>1</td>\n",
       "      <td>3</td>\n",
       "      <td>False</td>\n",
       "    </tr>\n",
       "    <tr>\n",
       "      <th>29</th>\n",
       "      <td>[[0.0, 0.0, 0.0, 0.0, 0.0, 0.0, 0.0, 0.0, 0.0,...</td>\n",
       "      <td>7</td>\n",
       "      <td>4</td>\n",
       "      <td>False</td>\n",
       "    </tr>\n",
       "    <tr>\n",
       "      <th>48</th>\n",
       "      <td>[[0.0, 0.0, 0.0, 0.0, 0.0, 0.0, 0.0, 0.0, 0.0,...</td>\n",
       "      <td>9</td>\n",
       "      <td>3</td>\n",
       "      <td>False</td>\n",
       "    </tr>\n",
       "    <tr>\n",
       "      <th>54</th>\n",
       "      <td>[[0.0, 0.0, 0.0, 0.0, 0.0, 0.0, 0.0, 0.0, 0.0,...</td>\n",
       "      <td>9</td>\n",
       "      <td>7</td>\n",
       "      <td>False</td>\n",
       "    </tr>\n",
       "  </tbody>\n",
       "</table>\n",
       "</div>"
      ],
      "text/plain": [
       "                                                  img label predicted  correct\n",
       "0   [[0.0, 0.0, 0.0, 0.0, 0.0, 0.0, 0.0, 0.0, 0.0,...     5         3    False\n",
       "24  [[0.0, 0.0, 0.0, 0.0, 0.0, 0.0, 0.0, 0.0, 0.0,...     1         3    False\n",
       "29  [[0.0, 0.0, 0.0, 0.0, 0.0, 0.0, 0.0, 0.0, 0.0,...     7         4    False\n",
       "48  [[0.0, 0.0, 0.0, 0.0, 0.0, 0.0, 0.0, 0.0, 0.0,...     9         3    False\n",
       "54  [[0.0, 0.0, 0.0, 0.0, 0.0, 0.0, 0.0, 0.0, 0.0,...     9         7    False"
      ]
     },
     "execution_count": 24,
     "metadata": {},
     "output_type": "execute_result"
    }
   ],
   "source": [
    "data_incorrect = data[data.correct==False]\n",
    "data_incorrect.head()"
   ]
  },
  {
   "cell_type": "code",
   "execution_count": 25,
   "metadata": {},
   "outputs": [
    {
     "name": "stdout",
     "output_type": "stream",
     "text": [
      "Label:  1\n",
      "Predicted:  3\n"
     ]
    },
    {
     "data": {
      "image/png": "[encoded data removed]",
      "text/plain": [
       "<Figure size 432x288 with 1 Axes>"
      ]
     },
     "metadata": {
      "needs_background": "light"
     },
     "output_type": "display_data"
    }
   ],
   "source": [
    "plt.imshow(data.img[24].reshape(28,28), cmap='gray')\n",
    "print('Label: ',data.label[24])\n",
    "print('Predicted: ', data.predicted[24])\n",
    "plt.show()"
   ]
  },
  {
   "cell_type": "markdown",
   "metadata": {},
   "source": [
    "За по-лесно принтиране изображения си дефинираме функция, която принтира етикета, предикцията, и самото изображение:"
   ]
  },
  {
   "cell_type": "code",
   "execution_count": 26,
   "metadata": {},
   "outputs": [],
   "source": [
    "def display_result(index):\n",
    "  plt.imshow(data.img[index].reshape(28,28), cmap='gray')\n",
    "  print('Label: ',data.label[index])\n",
    "  print('Predicted: ', data.predicted[index])\n",
    "  plt.show()"
   ]
  },
  {
   "cell_type": "code",
   "execution_count": 27,
   "metadata": {},
   "outputs": [
    {
     "name": "stdout",
     "output_type": "stream",
     "text": [
      "Label:  9\n",
      "Predicted:  3\n"
     ]
    },
    {
     "data": {
      "image/png": "[encoded data removed]",
      "text/plain": [
       "<Figure size 432x288 with 1 Axes>"
      ]
     },
     "metadata": {
      "needs_background": "light"
     },
     "output_type": "display_data"
    }
   ],
   "source": [
    "display_result(48)"
   ]
  },
  {
   "cell_type": "markdown",
   "metadata": {},
   "source": [
    "Нека покажем първите 3 грешни предикции:"
   ]
  },
  {
   "cell_type": "code",
   "execution_count": 28,
   "metadata": {},
   "outputs": [
    {
     "name": "stdout",
     "output_type": "stream",
     "text": [
      "Label:  5\n",
      "Predicted:  3\n"
     ]
    },
    {
     "data": {
      "image/png": "[encoded data removed]",
      "text/plain": [
       "<Figure size 432x288 with 1 Axes>"
      ]
     },
     "metadata": {
      "needs_background": "light"
     },
     "output_type": "display_data"
    },
    {
     "name": "stdout",
     "output_type": "stream",
     "text": [
      "Label:  1\n",
      "Predicted:  3\n"
     ]
    },
    {
     "data": {
      "image/png": "[encoded data removed]",
      "text/plain": [
       "<Figure size 432x288 with 1 Axes>"
      ]
     },
     "metadata": {
      "needs_background": "light"
     },
     "output_type": "display_data"
    },
    {
     "name": "stdout",
     "output_type": "stream",
     "text": [
      "Label:  7\n",
      "Predicted:  4\n"
     ]
    },
    {
     "data": {
      "image/png": "[encoded data removed]",
      "text/plain": [
       "<Figure size 432x288 with 1 Axes>"
      ]
     },
     "metadata": {
      "needs_background": "light"
     },
     "output_type": "display_data"
    }
   ],
   "source": [
    "for i in data_incorrect.index[:3]:\n",
    "  display_result(i)"
   ]
  },
  {
   "cell_type": "markdown",
   "metadata": {},
   "source": [
    "### Задача\n",
    "\n",
    "Тренирайте Ваша невронна мрежа за класификация. Може да я използвате върху предишен набор от данни, но можете и да опитате да тренирате алгоритъм за разпознаване на изображения върху някой от [следните набори](https://www.analyticsvidhya.com/blog/2018/03/comprehensive-collection-deep-learning-datasets/). Имайте предвид че много от тези набори изискват специфична предобработка. Опитайте се сами да отгатнете как да кодирате изображенията си чрез онлайн ресурси (вкл. и чат гпт). Не се притесянвайте и да поискате съвет."
   ]
  }
 ],
 "metadata": {
  "kernelspec": {
   "display_name": "base",
   "language": "python",
   "name": "python3"
  },
  "language_info": {
   "codemirror_mode": {
    "name": "ipython",
    "version": 3
   },
   "file_extension": ".py",
   "mimetype": "text/x-python",
   "name": "python",
   "nbconvert_exporter": "python",
   "pygments_lexer": "ipython3",
   "version": "3.9.12"
  }
 },
 "nbformat": 4,
 "nbformat_minor": 2
}
