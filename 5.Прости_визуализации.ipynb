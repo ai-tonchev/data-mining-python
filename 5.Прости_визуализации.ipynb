{
 "cells": [
  {
   "cell_type": "markdown",
   "metadata": {},
   "source": [
    "## ЛУ 5: Увод във визуализацията на данни с matplotlib\n",
    "\n",
    "Най-ефикасният начин да наблюдаваме информацията от даден набор данни непосредствено е чрез визуализации. Независимо дали представяте резултати от анализ пред мениджмънт или пък се опитвате да диагностицирате собствен алгоритъм, визуализираните данни са завършени данни: те са най-лесният мост между сложността на масива числа и/ или низове, с който разполагаме, и начина, по който нашият мозък възприема реалността.\n",
    "\n",
    "Визуализирането на данни е сложна сфера само по себе си и немалко хора изкарват целите си кариери в тази сфера. Читателят вероятно е запознат и с потребителско-насочени софтуерни решения за визуализация на данни, като Power BI или Tableau. Въпреки това, подобни решения често, улеснявайки процеса си, предотратяват възможността за прецизни, сложни и наслоени визуализации, които често са ключа към наистина високото ниво визуализиране на данни.\n",
    "\n",
    "Предстоящите две упражнения са увод в една библиотека за Python, която, овладяна добре, позволява практически пълна свобода що се отнася до композицията на една визуализация. Библиотеката се нарича matplotlib. Макар представените тук визуализации да са относително прости, ще дадем на читателя инструментите да създава далеч по-сложни изображения.\n",
    "\n",
    "За настоящето упражнение ще заредим наборите данни iris и healthexp. Iris съдържа стойности за дължина и ширина на близалцата (sepal) и листовете (petal) на три подвида (setosa, versicolor, virginica) растения от вида ирис (или перуника). Healthexp съдържа данни за здравния бюджет на 6 страни межди 1970 и 2020 и средната продължителност на живота там. Наборите са често използвани в обучение за работа с данни. "
   ]
  },
  {
   "cell_type": "code",
   "execution_count": 1,
   "metadata": {},
   "outputs": [],
   "source": [
    "import pandas as pd\n",
    "import matplotlib.pyplot as plt"
   ]
  },
  {
   "cell_type": "code",
   "execution_count": 2,
   "metadata": {},
   "outputs": [],
   "source": [
    "# зареждаме наборите данни от url адреси\n",
    "iris = pd.read_csv('https://raw.githubusercontent.com/mwaskom/seaborn-data/master/iris.csv')"
   ]
  },
  {
   "cell_type": "code",
   "execution_count": 3,
   "metadata": {},
   "outputs": [],
   "source": [
    "dataset = 'healthexp'\n",
    "url = f'https://raw.githubusercontent.com/mwaskom/seaborn-data/master/{dataset}.csv'\n",
    "healthexp = pd.read_csv(url)\n"
   ]
  },
  {
   "cell_type": "markdown",
   "metadata": {},
   "source": [
    "Често можем да получим относително добра представа за даден набор от данни, описвайки колонките си статистически:"
   ]
  },
  {
   "cell_type": "code",
   "execution_count": 4,
   "metadata": {},
   "outputs": [
    {
     "data": {
      "text/html": [
       "<div>\n",
       "<style scoped>\n",
       "    .dataframe tbody tr th:only-of-type {\n",
       "        vertical-align: middle;\n",
       "    }\n",
       "\n",
       "    .dataframe tbody tr th {\n",
       "        vertical-align: top;\n",
       "    }\n",
       "\n",
       "    .dataframe thead th {\n",
       "        text-align: right;\n",
       "    }\n",
       "</style>\n",
       "<table border=\"1\" class=\"dataframe\">\n",
       "  <thead>\n",
       "    <tr style=\"text-align: right;\">\n",
       "      <th></th>\n",
       "      <th>Year</th>\n",
       "      <th>Spending_USD</th>\n",
       "      <th>Life_Expectancy</th>\n",
       "    </tr>\n",
       "  </thead>\n",
       "  <tbody>\n",
       "    <tr>\n",
       "      <th>count</th>\n",
       "      <td>274.000000</td>\n",
       "      <td>274.000000</td>\n",
       "      <td>274.000000</td>\n",
       "    </tr>\n",
       "    <tr>\n",
       "      <th>mean</th>\n",
       "      <td>1996.992701</td>\n",
       "      <td>2789.338905</td>\n",
       "      <td>77.909489</td>\n",
       "    </tr>\n",
       "    <tr>\n",
       "      <th>std</th>\n",
       "      <td>14.180933</td>\n",
       "      <td>2194.939785</td>\n",
       "      <td>3.276263</td>\n",
       "    </tr>\n",
       "    <tr>\n",
       "      <th>min</th>\n",
       "      <td>1970.000000</td>\n",
       "      <td>123.993000</td>\n",
       "      <td>70.600000</td>\n",
       "    </tr>\n",
       "    <tr>\n",
       "      <th>25%</th>\n",
       "      <td>1985.250000</td>\n",
       "      <td>1038.357000</td>\n",
       "      <td>75.525000</td>\n",
       "    </tr>\n",
       "    <tr>\n",
       "      <th>50%</th>\n",
       "      <td>1998.000000</td>\n",
       "      <td>2295.578000</td>\n",
       "      <td>78.100000</td>\n",
       "    </tr>\n",
       "    <tr>\n",
       "      <th>75%</th>\n",
       "      <td>2009.000000</td>\n",
       "      <td>4055.610000</td>\n",
       "      <td>80.575000</td>\n",
       "    </tr>\n",
       "    <tr>\n",
       "      <th>max</th>\n",
       "      <td>2020.000000</td>\n",
       "      <td>11859.179000</td>\n",
       "      <td>84.700000</td>\n",
       "    </tr>\n",
       "  </tbody>\n",
       "</table>\n",
       "</div>"
      ],
      "text/plain": [
       "              Year  Spending_USD  Life_Expectancy\n",
       "count   274.000000    274.000000       274.000000\n",
       "mean   1996.992701   2789.338905        77.909489\n",
       "std      14.180933   2194.939785         3.276263\n",
       "min    1970.000000    123.993000        70.600000\n",
       "25%    1985.250000   1038.357000        75.525000\n",
       "50%    1998.000000   2295.578000        78.100000\n",
       "75%    2009.000000   4055.610000        80.575000\n",
       "max    2020.000000  11859.179000        84.700000"
      ]
     },
     "execution_count": 4,
     "metadata": {},
     "output_type": "execute_result"
    }
   ],
   "source": [
    "healthexp.describe()"
   ]
  },
  {
   "cell_type": "markdown",
   "metadata": {},
   "source": [
    "Въпреки това, не можем да включим горната таблица в презентация пред мениджмънт, а и освен това в нея няма твърде много детайл."
   ]
  },
  {
   "cell_type": "markdown",
   "metadata": {},
   "source": [
    "### Прости визуализации"
   ]
  },
  {
   "cell_type": "markdown",
   "metadata": {},
   "source": [
    "#### Хистограма"
   ]
  },
  {
   "cell_type": "markdown",
   "metadata": {},
   "source": [
    "Хистограмата е сред основните дескриптивни визуализации. Тя показва разпределението на данните ни групирани на равни интервали от стойности.\n",
    "\n",
    "Най-лесният начин да създадем хистограма в Matplotlib е чрез функцията plt.hist(), където аргумент са данните, които искаме да визуализираме."
   ]
  },
  {
   "cell_type": "code",
   "execution_count": 5,
   "metadata": {},
   "outputs": [
    {
     "data": {
      "image/png": "[encoded data removed]",
      "text/plain": [
       "<Figure size 432x288 with 1 Axes>"
      ]
     },
     "metadata": {
      "needs_background": "light"
     },
     "output_type": "display_data"
    }
   ],
   "source": [
    "sample_histogram = plt.hist(iris.sepal_length)"
   ]
  },
  {
   "cell_type": "markdown",
   "metadata": {},
   "source": [
    "Ако искаме да получим информация за възможните аргументи на дадена функция, можем да използваме въпросителна след нейното име (това работи за всички видове обекти), напр. 'plt.hist?'"
   ]
  },
  {
   "cell_type": "markdown",
   "metadata": {},
   "source": [
    "#### Кръгова диаграма"
   ]
  },
  {
   "cell_type": "markdown",
   "metadata": {},
   "source": [
    "Качествените променливи често се описват чрез кръгови диаграми (pie charts). Въпреки това, ако просто сложим променливата си като аргумент на функцията pie(), ще получим грешка:"
   ]
  },
  {
   "cell_type": "code",
   "execution_count": 6,
   "metadata": {},
   "outputs": [
    {
     "name": "stdout",
     "output_type": "stream",
     "text": [
      "Could not create visual because: could not convert string to float: 'setosa'\n"
     ]
    },
    {
     "data": {
      "image/png": "[encoded data removed]",
      "text/plain": [
       "<Figure size 432x288 with 1 Axes>"
      ]
     },
     "metadata": {
      "needs_background": "light"
     },
     "output_type": "display_data"
    }
   ],
   "source": [
    "try:\n",
    "    species_distribution = plt.pie(iris.species)\n",
    "except Exception as e:\n",
    "    print(f'Could not create visual because: {e}')"
   ]
  },
  {
   "cell_type": "markdown",
   "metadata": {},
   "source": [
    "Това е защото функцията pie() приема за аргумент единични стойности на разпределение, които се извикват чрез познатата ни функция value_counts():"
   ]
  },
  {
   "cell_type": "code",
   "execution_count": 7,
   "metadata": {},
   "outputs": [
    {
     "data": {
      "text/plain": [
       "setosa        50\n",
       "versicolor    50\n",
       "virginica     50\n",
       "Name: species, dtype: int64"
      ]
     },
     "execution_count": 7,
     "metadata": {},
     "output_type": "execute_result"
    }
   ],
   "source": [
    "iris.species.value_counts()"
   ]
  },
  {
   "cell_type": "code",
   "execution_count": 8,
   "metadata": {},
   "outputs": [
    {
     "data": {
      "image/png": "[encoded data removed]",
      "text/plain": [
       "<Figure size 432x288 with 1 Axes>"
      ]
     },
     "metadata": {},
     "output_type": "display_data"
    }
   ],
   "source": [
    "species_distribution = plt.pie(iris.species.value_counts())"
   ]
  },
  {
   "cell_type": "markdown",
   "metadata": {},
   "source": [
    "Ако потърсим документацията на функцията ('plt.pie?'), ще открием, че имаме множество аругменти, които можем да използваме като параметри. В случая по-долу сме използвали ключовете на value_counts() (т.е. имената на всеки уникален случай: със същия успех бихме могли да използваме просто iris.species.unique()), за да отбележим коя част на диаграмата измерва определена стойност."
   ]
  },
  {
   "cell_type": "code",
   "execution_count": 9,
   "metadata": {},
   "outputs": [
    {
     "data": {
      "text/plain": [
       "Text(0.5, 1.0, 'Species distribution')"
      ]
     },
     "execution_count": 9,
     "metadata": {},
     "output_type": "execute_result"
    },
    {
     "data": {
      "image/png": "[encoded data removed]",
      "text/plain": [
       "<Figure size 432x288 with 1 Axes>"
      ]
     },
     "metadata": {},
     "output_type": "display_data"
    }
   ],
   "source": [
    "species_distribution_labelled = plt.pie(\n",
    "    iris.species.value_counts(), \n",
    "    labels= {f'{k}: {v}' for k, v in iris.species.value_counts().items()}\n",
    ")\n",
    "plt.title('Species distribution')"
   ]
  },
  {
   "cell_type": "markdown",
   "metadata": {},
   "source": [
    "#### Точкова диаграма"
   ]
  },
  {
   "cell_type": "markdown",
   "metadata": {},
   "source": [
    "За репрезентация на съотношението между две количествени променливи, особено чест метод е точковата диаграма (scatterplot). Най-лесният начин за създаване е чрез метода scatter() и двете количествени променливи като аргументи. Точковата диаграма чертае всеки случай от набора според двата атрибута. Така получаваме визуална репрезентация на съотношението на двата признака. Както виждаме долу, дължината на близалцето се увеличава дължината на листа.  "
   ]
  },
  {
   "cell_type": "code",
   "execution_count": 10,
   "metadata": {},
   "outputs": [
    {
     "data": {
      "image/png": "[encoded data removed]",
      "text/plain": [
       "<Figure size 432x288 with 1 Axes>"
      ]
     },
     "metadata": {
      "needs_background": "light"
     },
     "output_type": "display_data"
    }
   ],
   "source": [
    "scatterplot = plt.scatter(iris.petal_length, iris.sepal_length)"
   ]
  },
  {
   "cell_type": "markdown",
   "metadata": {},
   "source": [
    "Също така, можем да дадем низове с имената на променливите и да зададем откъде да бъдат взети чрез аргумента data."
   ]
  },
  {
   "cell_type": "code",
   "execution_count": 11,
   "metadata": {},
   "outputs": [
    {
     "data": {
      "image/png": "[encoded data removed]",
      "text/plain": [
       "<Figure size 432x288 with 1 Axes>"
      ]
     },
     "metadata": {
      "needs_background": "light"
     },
     "output_type": "display_data"
    }
   ],
   "source": [
    "scatterplot = plt.scatter('petal_length','sepal_length', data=iris)"
   ]
  },
  {
   "cell_type": "markdown",
   "metadata": {},
   "source": [
    "#### Линейна диаграма\n",
    "\n",
    "Подобно на точковата диаграма, линейната диаграма отразява съотношението между две колчиествени променливи в двуизмерно поле. Основната разлика е че тя използва линия наместо точки. За да начертаем линия в matplotlib, използваме функцията plot. Тъй като линия, минаваща през всичките точки на точковата ни диаграма ще изглежда грозно, за пример ще направим проста синусоидна функция, където y = sin(x). "
   ]
  },
  {
   "cell_type": "code",
   "execution_count": 12,
   "metadata": {},
   "outputs": [
    {
     "data": {
      "image/png": "[encoded data removed]",
      "text/plain": [
       "<Figure size 432x288 with 1 Axes>"
      ]
     },
     "metadata": {
      "needs_background": "light"
     },
     "output_type": "display_data"
    }
   ],
   "source": [
    "import numpy as np \n",
    "# Ще научим повече за библиотеката numpy по-нататък,\n",
    "# засега тя ни позволява да приложим синусоидна функция върху х.\n",
    "\n",
    "x = np.array(range(100))\n",
    "x = x/5 # разделяме x на 5, за да имаме по-висока \"резолюция\" с пет точки за всяка единица\n",
    "y = np.sin(x)\n",
    "sine_plot = plt.plot(x, y)"
   ]
  },
  {
   "cell_type": "markdown",
   "metadata": {},
   "source": [
    "#### Стълбова Диаграма\n",
    "\n",
    "Стълбовата диаграма (bar chart) е друг основен метод за илюстриране на данни. Тя се създава чрез функцията bar. В долния пример сме взели за х-ос индивидуалните години, докато за у-ос изчисляваме бюджета за всичките 6 държави, групиран по години."
   ]
  },
  {
   "cell_type": "code",
   "execution_count": 13,
   "metadata": {},
   "outputs": [
    {
     "data": {
      "image/png": "[encoded data removed]",
      "text/plain": [
       "<Figure size 432x288 with 1 Axes>"
      ]
     },
     "metadata": {
      "needs_background": "light"
     },
     "output_type": "display_data"
    }
   ],
   "source": [
    "years = healthexp.Year.unique()\n",
    "usd_spending_per_year = healthexp.groupby('Year').Spending_USD.sum()\n",
    "spending_per_year_bars = plt.bar(years, usd_spending_per_year)"
   ]
  },
  {
   "cell_type": "markdown",
   "metadata": {},
   "source": [
    "Нека сега начертаем бюджетите на 6-те държави за 2020."
   ]
  },
  {
   "cell_type": "code",
   "execution_count": 14,
   "metadata": {},
   "outputs": [
    {
     "data": {
      "image/png": "[encoded data removed]",
      "text/plain": [
       "<Figure size 432x288 with 1 Axes>"
      ]
     },
     "metadata": {
      "needs_background": "light"
     },
     "output_type": "display_data"
    }
   ],
   "source": [
    "healthexp_2020 = healthexp[healthexp.Year == 2020]\n",
    "countries = healthexp_2020.Country.unique()\n",
    "country_budgets = healthexp_2020.Spending_USD \n",
    "#няма нужда да агрегираме, тъй като в набора данни имаме само по една стойност за държава за година\n",
    "country_budget_bars = plt.bar(countries, country_budgets)"
   ]
  },
  {
   "cell_type": "markdown",
   "metadata": {},
   "source": [
    "Нека проверим дали даннните ни са верни, като проверим бюджета на Щатите за 2020:"
   ]
  },
  {
   "cell_type": "code",
   "execution_count": 15,
   "metadata": {},
   "outputs": [
    {
     "data": {
      "text/plain": [
       "273    11859.179\n",
       "Name: Spending_USD, dtype: float64"
      ]
     },
     "execution_count": 15,
     "metadata": {},
     "output_type": "execute_result"
    }
   ],
   "source": [
    "healthexp[\n",
    "    (healthexp.Year == 2020)\n",
    "    &(healthexp.Country == 'USA')\n",
    "].Spending_USD"
   ]
  },
  {
   "cell_type": "markdown",
   "metadata": {},
   "source": [
    "### Задача\n",
    "\n",
    "Вземете променливите от упражнения 3 и 4 и подкрепете докладите си с подходящи визуализации."
   ]
  }
 ],
 "metadata": {
  "kernelspec": {
   "display_name": "Python 3 (ipykernel)",
   "language": "python",
   "name": "python3"
  },
  "language_info": {
   "codemirror_mode": {
    "name": "ipython",
    "version": 3
   },
   "file_extension": ".py",
   "mimetype": "text/x-python",
   "name": "python",
   "nbconvert_exporter": "python",
   "pygments_lexer": "ipython3",
   "version": "3.9.12"
  }
 },
 "nbformat": 4,
 "nbformat_minor": 2
}
