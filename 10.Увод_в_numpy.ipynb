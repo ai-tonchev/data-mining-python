{
 "cells": [
  {
   "cell_type": "markdown",
   "metadata": {},
   "source": [
    "# Част III: Увод в Невронните Мрежи\n",
    "\n"
   ]
  },
  {
   "cell_type": "markdown",
   "metadata": {},
   "source": [
    "### ЛУ10: Увод в numpy\n",
    "\n",
    "В основата си невронните мрежи са множество взаимодействщи набори от матрици. Входните ни данни трябва да са матрица, изходните данни идват под формата на матрица, разнообразните процеси в самата мрежа са различни видове матрични операции. Numpy е библиотека за Python, целяща именно да позволи лесна и ефикасна работа с матрици. Ненапразно популярните библиотеки за невронни мрежи в Python (tensorflow, keras, pytorch, cupy) имат обекти и синтаксис заети от numpy. Макар самата библиотека вече да не се използва в разработката на индустриални алгоритми (основно заради неспособността си да разпределя изчисленията си между няколко процесора), научавайки я, читателят ще може изключително лесно да разбере споменатите по-горе библиотеки (като cupy е почти точно копие на numpy с възможност именно за разпределяне на изчисленията).\n",
    "\n",
    "За по-задълбочен увод в библиотеката, както и в pandas, matplotlib и scikit-learn, препоръчваме книгата [Python Data Science Handbook](https://jakevdp.github.io/PythonDataScienceHandbook/) от Джейк ван дер Плас.\n"
   ]
  },
  {
   "cell_type": "code",
   "execution_count": 4,
   "metadata": {},
   "outputs": [],
   "source": [
    "import numpy as np"
   ]
  },
  {
   "cell_type": "markdown",
   "metadata": {},
   "source": [
    "### Матрици в Numpy\n",
    "\n",
    "Матриците в numpy са ndarray обекти. Те притежават измерения и съдържат обекти от числен вид: или само цели числа, или само числа с плаваща запетая (десетични дроби). Определена матрица може да има неограничен брой измерения, стига те да могат да поберат всички елементи на матрицата. Умноженият брой на измеренията трябва да съвпада с броя елементи в матрицата."
   ]
  },
  {
   "cell_type": "code",
   "execution_count": 18,
   "metadata": {},
   "outputs": [
    {
     "name": "stdout",
     "output_type": "stream",
     "text": [
      "[0 1 2 3 4 5]\n",
      "<class 'numpy.ndarray'>\n"
     ]
    }
   ],
   "source": [
    "x = list(range(6))\n",
    "x = np.array(x)\n",
    "print(x)\n",
    "print(type(x))"
   ]
  },
  {
   "cell_type": "markdown",
   "metadata": {},
   "source": [
    "Основен начин да получим информация за дадена матрица е чрез нейната форма. В невронните мрежи обичкновено се работи с едноизмерни (вектори) и двуизмерни матрици."
   ]
  },
  {
   "cell_type": "code",
   "execution_count": 19,
   "metadata": {},
   "outputs": [
    {
     "data": {
      "text/plain": [
       "(6,)"
      ]
     },
     "execution_count": 19,
     "metadata": {},
     "output_type": "execute_result"
    }
   ],
   "source": [
    "x.shape"
   ]
  },
  {
   "cell_type": "markdown",
   "metadata": {},
   "source": [
    "Методът reshape позволява да променим формата на дадена матрица."
   ]
  },
  {
   "cell_type": "code",
   "execution_count": 20,
   "metadata": {},
   "outputs": [
    {
     "data": {
      "text/plain": [
       "array([[0, 1, 2],\n",
       "       [3, 4, 5]])"
      ]
     },
     "execution_count": 20,
     "metadata": {},
     "output_type": "execute_result"
    }
   ],
   "source": [
    "x.reshape(2,3)"
   ]
  },
  {
   "cell_type": "code",
   "execution_count": 21,
   "metadata": {},
   "outputs": [
    {
     "data": {
      "text/plain": [
       "array([[[0],\n",
       "        [1],\n",
       "        [2]],\n",
       "\n",
       "       [[3],\n",
       "        [4],\n",
       "        [5]]])"
      ]
     },
     "execution_count": 21,
     "metadata": {},
     "output_type": "execute_result"
    }
   ],
   "source": [
    "x_3d = x.reshape(2,3,1) #триизмерна матрица\n",
    "x_3d"
   ]
  },
  {
   "cell_type": "markdown",
   "metadata": {},
   "source": [
    "Подобно на pandas серия, дадена матрица може да съдържа обекти от един-единствен вид."
   ]
  },
  {
   "cell_type": "code",
   "execution_count": 22,
   "metadata": {},
   "outputs": [
    {
     "data": {
      "text/plain": [
       "dtype('int32')"
      ]
     },
     "execution_count": 22,
     "metadata": {},
     "output_type": "execute_result"
    }
   ],
   "source": [
    "x.dtype"
   ]
  },
  {
   "cell_type": "markdown",
   "metadata": {},
   "source": [
    "### Излъчване (broadcasting) и матрична математика\n",
    "\n",
    "Ако съберем матрица с едно число, то бива прибавено към всеки елемент на матрицата. Този процес се нарича излъчване или broadcasting. Този процес може да се извърши и между матрици, стига те да отговарят на [критериите за излъчване](https://jakevdp.github.io/PythonDataScienceHandbook/02.05-computation-on-arrays-broadcasting.html).\n"
   ]
  },
  {
   "cell_type": "code",
   "execution_count": 23,
   "metadata": {},
   "outputs": [
    {
     "data": {
      "text/plain": [
       "array([1, 2, 3, 4, 5, 6])"
      ]
     },
     "execution_count": 23,
     "metadata": {},
     "output_type": "execute_result"
    }
   ],
   "source": [
    "x + 1"
   ]
  },
  {
   "cell_type": "code",
   "execution_count": 24,
   "metadata": {},
   "outputs": [
    {
     "data": {
      "text/plain": [
       "array([ 0,  2,  4,  6,  8, 10])"
      ]
     },
     "execution_count": 24,
     "metadata": {},
     "output_type": "execute_result"
    }
   ],
   "source": [
    "x * 2"
   ]
  },
  {
   "cell_type": "markdown",
   "metadata": {},
   "source": [
    "Важно е да се прави разлика между едноизмерна матрица и двуизмерна такава, където второто измерение е 1. Например:"
   ]
  },
  {
   "cell_type": "code",
   "execution_count": 25,
   "metadata": {},
   "outputs": [
    {
     "data": {
      "text/plain": [
       "((6,), (6, 1))"
      ]
     },
     "execution_count": 25,
     "metadata": {},
     "output_type": "execute_result"
    }
   ],
   "source": [
    "y = x.reshape(6,1)\n",
    "x.shape, y.shape"
   ]
  },
  {
   "cell_type": "code",
   "execution_count": 26,
   "metadata": {},
   "outputs": [
    {
     "data": {
      "text/plain": [
       "(array([0, 1, 2, 3, 4, 5]),\n",
       " array([[0],\n",
       "        [1],\n",
       "        [2],\n",
       "        [3],\n",
       "        [4],\n",
       "        [5]]))"
      ]
     },
     "execution_count": 26,
     "metadata": {},
     "output_type": "execute_result"
    }
   ],
   "source": [
    "x, y"
   ]
  },
  {
   "cell_type": "markdown",
   "metadata": {},
   "source": [
    "Когато събираме матрици с различни измерения, резултатът е излъчване на стойностите им спрямо едно-друго."
   ]
  },
  {
   "cell_type": "code",
   "execution_count": 158,
   "metadata": {},
   "outputs": [
    {
     "data": {
      "text/plain": [
       "array([[ 0,  1,  2,  3,  4,  5],\n",
       "       [ 1,  2,  3,  4,  5,  6],\n",
       "       [ 2,  3,  4,  5,  6,  7],\n",
       "       [ 3,  4,  5,  6,  7,  8],\n",
       "       [ 4,  5,  6,  7,  8,  9],\n",
       "       [ 5,  6,  7,  8,  9, 10]])"
      ]
     },
     "execution_count": 158,
     "metadata": {},
     "output_type": "execute_result"
    }
   ],
   "source": [
    "z = x + y\n",
    "z"
   ]
  },
  {
   "cell_type": "markdown",
   "metadata": {},
   "source": [
    "### Индексиране в Numpy\n",
    "\n",
    "Numpy матриците също могат да бъдат индексирани според измеренията си."
   ]
  },
  {
   "cell_type": "code",
   "execution_count": 161,
   "metadata": {},
   "outputs": [
    {
     "data": {
      "text/plain": [
       "2"
      ]
     },
     "execution_count": 161,
     "metadata": {},
     "output_type": "execute_result"
    }
   ],
   "source": [
    "x[2]"
   ]
  },
  {
   "cell_type": "code",
   "execution_count": 165,
   "metadata": {},
   "outputs": [
    {
     "data": {
      "text/plain": [
       "4"
      ]
     },
     "execution_count": 165,
     "metadata": {},
     "output_type": "execute_result"
    }
   ],
   "source": [
    "y[4, 0]"
   ]
  },
  {
   "cell_type": "code",
   "execution_count": 166,
   "metadata": {},
   "outputs": [
    {
     "data": {
      "text/plain": [
       "4"
      ]
     },
     "execution_count": 166,
     "metadata": {},
     "output_type": "execute_result"
    }
   ],
   "source": [
    "z[2,2]"
   ]
  },
  {
   "cell_type": "code",
   "execution_count": 171,
   "metadata": {},
   "outputs": [
    {
     "data": {
      "text/plain": [
       "array([2, 3, 4, 5, 6, 7])"
      ]
     },
     "execution_count": 171,
     "metadata": {},
     "output_type": "execute_result"
    }
   ],
   "source": [
    "z[2]"
   ]
  },
  {
   "cell_type": "code",
   "execution_count": 173,
   "metadata": {},
   "outputs": [
    {
     "data": {
      "text/plain": [
       "4"
      ]
     },
     "execution_count": 173,
     "metadata": {},
     "output_type": "execute_result"
    }
   ],
   "source": [
    "x_3d[1, 1, 0]"
   ]
  },
  {
   "cell_type": "markdown",
   "metadata": {},
   "source": [
    "### Генериране на масиви\n",
    "\n",
    "Numpy предоставя сериозен набор за автоматично съставяне на матрици:\n",
    "\n",
    " - np.linspace предоставя равномерно разпределени дроби в даден диапазон;\n",
    " - np.random.normal съставя произволен набор с нормална дистрибуция;\n",
    " - np.random.randint генерира произволни цели числа в даден диапазон;\n",
    " - np.random.random връща набор дроби между 0 и 1;\n",
    " - np.zeros и np.ones създават масив с дадена форма, изпълнен съответно с нули или единици."
   ]
  },
  {
   "cell_type": "code",
   "execution_count": 77,
   "metadata": {},
   "outputs": [
    {
     "data": {
      "text/plain": [
       "Text(0.5, 1.0, 'Simple linear relationship')"
      ]
     },
     "execution_count": 77,
     "metadata": {},
     "output_type": "execute_result"
    },
    {
     "data": {
      "image/png": "[encoded data removed]",
      "text/plain": [
       "<Figure size 432x288 with 1 Axes>"
      ]
     },
     "metadata": {},
     "output_type": "display_data"
    }
   ],
   "source": [
    "import matplotlib.pyplot as plt\n",
    "import seaborn as sns\n",
    "\n",
    "sns.set(\n",
    "    font='serif',\n",
    "    style = 'whitegrid',\n",
    ")\n",
    "\n",
    "x = np.linspace(\n",
    "    start = 0,\n",
    "    stop = 6,\n",
    "    num = 100\n",
    ")\n",
    "\n",
    "y = np.linspace(\n",
    "    start = 5,\n",
    "    stop = 50,\n",
    "    num = 100\n",
    ")\n",
    "\n",
    "plt.plot(x, y, c='darkgreen')\n",
    "_ = plt.title('Simple linear relationship')"
   ]
  },
  {
   "cell_type": "code",
   "execution_count": 78,
   "metadata": {},
   "outputs": [
    {
     "data": {
      "image/png": "[encoded data removed]",
      "text/plain": [
       "<Figure size 432x288 with 1 Axes>"
      ]
     },
     "metadata": {},
     "output_type": "display_data"
    }
   ],
   "source": [
    "normal = np.random.normal(\n",
    "    loc = 0,\n",
    "    scale = 6,\n",
    "    size = 500\n",
    ")\n",
    "\n",
    "plt.hist(\n",
    "    normal, \n",
    "    color = '#7393B3', \n",
    "    edgecolor = '#4682B4'\n",
    ")\n",
    "\n",
    "_ = plt.title('Histogram of normal distribution')"
   ]
  },
  {
   "cell_type": "code",
   "execution_count": 106,
   "metadata": {},
   "outputs": [
    {
     "data": {
      "image/png": "[encoded data removed]",
      "text/plain": [
       "<Figure size 432x288 with 1 Axes>"
      ]
     },
     "metadata": {},
     "output_type": "display_data"
    }
   ],
   "source": [
    "import pandas as pd\n",
    "\n",
    "random_categories = np.random.randint(\n",
    "    low = 1,\n",
    "    high = 5,\n",
    "    size = 200\n",
    ")\n",
    "\n",
    "random_values = np.random.random(size = 200)\n",
    "random_values = random_values * 100 # generating a random sample between 0 and 100\n",
    "\n",
    "random_df = pd.DataFrame({\n",
    "    'category': random_categories,\n",
    "    'value': random_values\n",
    "})\n",
    "\n",
    "\n",
    "plt.bar(\n",
    "    x = random_df.category.unique(),\n",
    "    height = random_df.groupby('category').value.mean(),\n",
    "    color = '#CC7722'\n",
    ")\n",
    "\n",
    "_ = plt.title('Mean random value per category')"
   ]
  },
  {
   "cell_type": "code",
   "execution_count": null,
   "metadata": {},
   "outputs": [
    {
     "data": {
      "image/png": "[encoded data removed]",
      "text/plain": [
       "<Figure size 432x288 with 1 Axes>"
      ]
     },
     "metadata": {},
     "output_type": "display_data"
    }
   ],
   "source": [
    "# създаваме по 50 двойки координати за двата вектора\n",
    "Ax = np.linspace(5, 40, 50)\n",
    "Ay = np.linspace(0, 20, 50)\n",
    "Bx = np.linspace(5, 40, 50)\n",
    "By = np.linspace(0, 5, 50)\n",
    "\n",
    "A_plot = plt.plot(Ax, Ay, color = 'darkred')\n",
    "B_plot = plt.plot(Bx, By, color = 'darkgreen')"
   ]
  },
  {
   "cell_type": "code",
   "execution_count": null,
   "metadata": {},
   "outputs": [
    {
     "data": {
      "text/plain": [
       "(2, 50)"
      ]
     },
     "metadata": {},
     "output_type": "display_data"
    }
   ],
   "source": [
    "A = np.stack((Ax, Ay)) #наслагваме двата набора координати, за да получим двуизмерен масив\n",
    "B = np.stack((Bx, By))\n",
    "A.shape"
   ]
  },
  {
   "cell_type": "code",
   "execution_count": null,
   "metadata": {},
   "outputs": [
    {
     "data": {
      "text/plain": [
       "(2, 50)"
      ]
     },
     "metadata": {},
     "output_type": "display_data"
    }
   ],
   "source": [
    "C = (A+B)/2 #получаваме средната стойност на двата масива\n",
    "C.shape"
   ]
  },
  {
   "cell_type": "code",
   "execution_count": null,
   "metadata": {},
   "outputs": [
    {
     "data": {
      "image/png": "[encoded data removed]",
      "text/plain": [
       "<Figure size 432x288 with 1 Axes>"
      ]
     },
     "metadata": {},
     "output_type": "display_data"
    }
   ],
   "source": [
    "A_plot = plt.plot(Ax, Ay, color = 'darkred')\n",
    "B_plot = plt.plot(Bx, By, color = 'darkgreen')\n",
    "C_plot = plt.plot(C[0], C[1], color = 'yellow')"
   ]
  },
  {
   "cell_type": "markdown",
   "metadata": {},
   "source": [
    "### Транспониране\n",
    "Освен събиране, изваждане, делене и умножение, матриците имат и други способности, като транспониране, точков продукт, кръстосан продукт и много други.\n",
    "\n",
    "При транспониране обръщаме измеренията на дадена матрица:"
   ]
  },
  {
   "cell_type": "code",
   "execution_count": 5,
   "metadata": {},
   "outputs": [
    {
     "data": {
      "text/plain": [
       "array([[0, 1, 2],\n",
       "       [3, 4, 5]])"
      ]
     },
     "execution_count": 5,
     "metadata": {},
     "output_type": "execute_result"
    }
   ],
   "source": [
    "X = np.arange(0,6,1).reshape(2,3)\n",
    "X"
   ]
  },
  {
   "cell_type": "code",
   "execution_count": 15,
   "metadata": {},
   "outputs": [
    {
     "data": {
      "text/plain": [
       "array([[0, 3],\n",
       "       [1, 4],\n",
       "       [2, 5]])"
      ]
     },
     "execution_count": 15,
     "metadata": {},
     "output_type": "execute_result"
    }
   ],
   "source": [
    "Y = X.transpose()\n",
    "Y"
   ]
  },
  {
   "cell_type": "markdown",
   "metadata": {},
   "source": [
    "### Точков продукт\n",
    "Точковият продукт е операция, често срещана в невронните мрежи. Numpy ни позволява лесно да извършваме такива операции, но е хубаво да ги разберем. За да получим точковия продукт на две матрици, второто измерение на първата трябва да съответства на първото измерение на втората. Резултатът притежава първото измерение на първата и второто измерение на втората матрица. Това постигаме като събираме умноженията на различни елементи. Например, в долното уравнение X[0, 0] = X[0, 0] * Y[0, 0] + X[0, 1] * Y[1, 0] + X[0, 2] * Y[2, 0] = 0 * 0 + 1 * 0.7 + 2 * 1.4 = 3.5."
   ]
  },
  {
   "cell_type": "code",
   "execution_count": 16,
   "metadata": {},
   "outputs": [
    {
     "data": {
      "text/plain": [
       "array([[0. , 2.1],\n",
       "       [0.7, 2.8],\n",
       "       [1.4, 3.5]])"
      ]
     },
     "execution_count": 16,
     "metadata": {},
     "output_type": "execute_result"
    }
   ],
   "source": [
    "Y = Y * .7\n",
    "Y"
   ]
  },
  {
   "cell_type": "code",
   "execution_count": 17,
   "metadata": {},
   "outputs": [
    {
     "data": {
      "text/plain": [
       "array([[ 3.5,  9.8],\n",
       "       [ 9.8, 35. ]])"
      ]
     },
     "execution_count": 17,
     "metadata": {},
     "output_type": "execute_result"
    }
   ],
   "source": [
    "Z = X.dot(Y)\n",
    "Z"
   ]
  },
  {
   "cell_type": "markdown",
   "metadata": {},
   "source": [
    "### Задача\n",
    "\n",
    "Създайте:\n",
    "\n",
    "- Едноизмерен numpy масив пълен единици и имащ дължина 15;\n",
    "- Прибавете към него едноизмерен масив със стойности между 0 и 14 и имащ същите измерения;\n",
    "- Променете измеренията на втория масив на (15, 1);\n",
    "- Умножете двата масива;\n",
    "- Получете точковия продукт на двата масива. Опитайте да разпишете формулата за получаване продукта.\n",
    "- Създайте графика, където за х-ос имаме 100 линейно разпределени стойности между 0 и 15, а y-оста е косинусова функция на x."
   ]
  }
 ],
 "metadata": {
  "kernelspec": {
   "display_name": "base",
   "language": "python",
   "name": "python3"
  },
  "language_info": {
   "codemirror_mode": {
    "name": "ipython",
    "version": 3
   },
   "file_extension": ".py",
   "mimetype": "text/x-python",
   "name": "python",
   "nbconvert_exporter": "python",
   "pygments_lexer": "ipython3",
   "version": "3.9.12"
  }
 },
 "nbformat": 4,
 "nbformat_minor": 2
}
