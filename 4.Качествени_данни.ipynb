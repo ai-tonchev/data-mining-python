{
 "cells": [
  {
   "cell_type": "markdown",
   "metadata": {},
   "source": [
    "## ЛУ 4: Манипулация на Качетвени данни\n",
    "\n",
    "### Теория"
   ]
  },
  {
   "cell_type": "markdown",
   "metadata": {},
   "source": [
    "### Работа с качествени данни в pandas\n",
    "\n",
    "Библиотеката pandas предоставя и множество методи за работа с качествени данни, които най-често идват под формата на низове (strings)."
   ]
  },
  {
   "cell_type": "code",
   "execution_count": 1,
   "metadata": {},
   "outputs": [],
   "source": [
    "import pandas as pd\n",
    "\n",
    "dataframe_length = 100\n",
    "dict_for_pd_df = {\n",
    "    'string_column': ['string_value_'+str(i) for i in range(dataframe_length)],\n",
    "    'binary_column': [True if (i+1) % 2==0 else False for i in range(dataframe_length)], #Ако остатъкът от делене на 2 е 0, тогава задаваме вярна стойност: тази колонка проверява дали имаме четни числа или не (добавяме 1, за да отговаря на int_column).\n",
    "    'list_column': [[i, i*2, i*3] for i in range(dataframe_length)],\n",
    "    'date_column': ['01/01/' + str(1900+i) for i in range(dataframe_length)],\n",
    "    'three_categories': ['A']*(dataframe_length//3) + ['B']*(dataframe_length//3) + ['C']*(dataframe_length//3 + dataframe_length%3),\n",
    "    'dollar_values': ['$'+str(i*100) for i in range(dataframe_length)]\n",
    "}\n",
    "my_first_df = pd.DataFrame(dict_for_pd_df)"
   ]
  },
  {
   "cell_type": "markdown",
   "metadata": {},
   "source": [
    "Основният начин да разгледаме качествена променлива е чрез метода value_counts, който показва колко стойности имаме за дадена променлива."
   ]
  },
  {
   "cell_type": "code",
   "execution_count": 2,
   "metadata": {},
   "outputs": [
    {
     "data": {
      "text/plain": [
       "C    34\n",
       "A    33\n",
       "B    33\n",
       "Name: three_categories, dtype: int64"
      ]
     },
     "execution_count": 2,
     "metadata": {},
     "output_type": "execute_result"
    }
   ],
   "source": [
    "my_first_df.three_categories.value_counts()"
   ]
  },
  {
   "cell_type": "code",
   "execution_count": 3,
   "metadata": {},
   "outputs": [
    {
     "data": {
      "text/plain": [
       "False    50\n",
       "True     50\n",
       "Name: binary_column, dtype: int64"
      ]
     },
     "execution_count": 3,
     "metadata": {},
     "output_type": "execute_result"
    }
   ],
   "source": [
    "my_first_df.binary_column.value_counts()"
   ]
  },
  {
   "cell_type": "markdown",
   "metadata": {},
   "source": [
    "Също така, можем да искаме да извадим списък с различните уникални стойности чрез unique или пък да извикаме само техния брой, ако колонката има твърде много уникални стойности. "
   ]
  },
  {
   "cell_type": "code",
   "execution_count": 4,
   "metadata": {},
   "outputs": [
    {
     "data": {
      "text/plain": [
       "array(['A', 'B', 'C'], dtype=object)"
      ]
     },
     "execution_count": 4,
     "metadata": {},
     "output_type": "execute_result"
    }
   ],
   "source": [
    "my_first_df.three_categories.unique()"
   ]
  },
  {
   "cell_type": "code",
   "execution_count": 5,
   "metadata": {},
   "outputs": [
    {
     "data": {
      "text/plain": [
       "100"
      ]
     },
     "execution_count": 5,
     "metadata": {},
     "output_type": "execute_result"
    }
   ],
   "source": [
    "my_first_df.string_column.nunique()"
   ]
  },
  {
   "cell_type": "code",
   "execution_count": 6,
   "metadata": {},
   "outputs": [
    {
     "name": "stdout",
     "output_type": "stream",
     "text": [
      "Column string_column contains only unique values.\n",
      "Column date_column contains only unique values.\n",
      "Column dollar_values contains only unique values.\n"
     ]
    }
   ],
   "source": [
    "# тук проверяваме коя от колонките има само уникални стойности:\n",
    "df_length = my_first_df.shape[0]\n",
    "# премахваме колоната-списък, защото unique не работи там\n",
    "for col in my_first_df.drop('list_column', axis=1).columns: \n",
    "   unique_values = my_first_df[col].nunique()\n",
    "   if unique_values == df_length:\n",
    "      print(f'Column {col} contains only unique values.')"
   ]
  },
  {
   "cell_type": "markdown",
   "metadata": {},
   "source": [
    "Често искаме да приложим разнообразни методи върху самите стойности в рамката данни, напр. да превърнем низовете в малки или главни букви, или пък да изберем определена част от низа."
   ]
  },
  {
   "cell_type": "code",
   "execution_count": 7,
   "metadata": {},
   "outputs": [
    {
     "data": {
      "text/plain": [
       "0    STRING_VALUE_0\n",
       "1    STRING_VALUE_1\n",
       "2    STRING_VALUE_2\n",
       "3    STRING_VALUE_3\n",
       "4    STRING_VALUE_4\n",
       "Name: string_column, dtype: object"
      ]
     },
     "execution_count": 7,
     "metadata": {},
     "output_type": "execute_result"
    }
   ],
   "source": [
    "# Превръщаме всички букви в главни. Вж. също методите capitalize и lower. \n",
    "# Удобни за стандартизиране на низови стойности.\n",
    "my_first_df.string_column.str.upper().head()"
   ]
  },
  {
   "cell_type": "code",
   "execution_count": 8,
   "metadata": {},
   "outputs": [
    {
     "data": {
      "text/plain": [
       "0    string\n",
       "1    string\n",
       "2    string\n",
       "3    string\n",
       "4    string\n",
       "Name: string_column, dtype: object"
      ]
     },
     "execution_count": 8,
     "metadata": {},
     "output_type": "execute_result"
    }
   ],
   "source": [
    "#избираме първите 6 символа\n",
    "my_first_df.string_column.str[:6].head()"
   ]
  },
  {
   "cell_type": "code",
   "execution_count": 9,
   "metadata": {},
   "outputs": [
    {
     "data": {
      "text/plain": [
       "0      0.0\n",
       "1     50.0\n",
       "2    100.0\n",
       "3    150.0\n",
       "4    200.0\n",
       "Name: dollar_values, dtype: float64"
      ]
     },
     "execution_count": 9,
     "metadata": {},
     "output_type": "execute_result"
    }
   ],
   "source": [
    "# Често методите върху низове са полезни ако искаме да извлечем числени стойности от тях. \n",
    "# Например, ако искаме да разделим стойностите в колонката dollar_values на 2,\n",
    "# долната операция ще върне грешка:\n",
    "# my_first_df.dollar_values / 2\n",
    "# Първо трябва да променим стойностите на количествени:\n",
    "dollar_values_only_numbers = my_first_df.dollar_values.str.replace('$', '', regex=False)\n",
    "# Използваме метода replace, за да премахнем всичките символи за долар.\n",
    "dollar_values_numerical = dollar_values_only_numbers.astype(int)\n",
    "dollar_values_numerical.head() / 2"
   ]
  },
  {
   "cell_type": "markdown",
   "metadata": {},
   "source": [
    "Често ни се налага да превърнем количествена променлива в качествена, напр. възрастови групи. Това става чрез метода pandas.cut()."
   ]
  },
  {
   "cell_type": "code",
   "execution_count": 10,
   "metadata": {},
   "outputs": [
    {
     "data": {
      "text/plain": [
       "(-9.9, 1980.0]      20\n",
       "(1980.0, 3960.0]    20\n",
       "(3960.0, 5940.0]    20\n",
       "(5940.0, 7920.0]    20\n",
       "(7920.0, 9900.0]    20\n",
       "Name: dollar_values, dtype: int64"
      ]
     },
     "execution_count": 10,
     "metadata": {},
     "output_type": "execute_result"
    }
   ],
   "source": [
    "n_categories = 5\n",
    "dollar_categories = pd.cut(\n",
    "    dollar_values_numerical,\n",
    "    bins = n_categories\n",
    ")\n",
    "dollar_categories.value_counts()"
   ]
  },
  {
   "cell_type": "markdown",
   "metadata": {},
   "source": [
    "Нека зададем категориите върху рамката си данни и да извлечем извадка, за да проверим дали съответстват."
   ]
  },
  {
   "cell_type": "code",
   "execution_count": 11,
   "metadata": {},
   "outputs": [
    {
     "data": {
      "text/html": [
       "<div>\n",
       "<style scoped>\n",
       "    .dataframe tbody tr th:only-of-type {\n",
       "        vertical-align: middle;\n",
       "    }\n",
       "\n",
       "    .dataframe tbody tr th {\n",
       "        vertical-align: top;\n",
       "    }\n",
       "\n",
       "    .dataframe thead th {\n",
       "        text-align: right;\n",
       "    }\n",
       "</style>\n",
       "<table border=\"1\" class=\"dataframe\">\n",
       "  <thead>\n",
       "    <tr style=\"text-align: right;\">\n",
       "      <th></th>\n",
       "      <th>string_column</th>\n",
       "      <th>binary_column</th>\n",
       "      <th>list_column</th>\n",
       "      <th>date_column</th>\n",
       "      <th>three_categories</th>\n",
       "      <th>dollar_values</th>\n",
       "      <th>dollar_categories</th>\n",
       "    </tr>\n",
       "  </thead>\n",
       "  <tbody>\n",
       "    <tr>\n",
       "      <th>81</th>\n",
       "      <td>string_value_81</td>\n",
       "      <td>True</td>\n",
       "      <td>[81, 162, 243]</td>\n",
       "      <td>01/01/1981</td>\n",
       "      <td>C</td>\n",
       "      <td>$8100</td>\n",
       "      <td>(7920.0, 9900.0]</td>\n",
       "    </tr>\n",
       "    <tr>\n",
       "      <th>83</th>\n",
       "      <td>string_value_83</td>\n",
       "      <td>True</td>\n",
       "      <td>[83, 166, 249]</td>\n",
       "      <td>01/01/1983</td>\n",
       "      <td>C</td>\n",
       "      <td>$8300</td>\n",
       "      <td>(7920.0, 9900.0]</td>\n",
       "    </tr>\n",
       "    <tr>\n",
       "      <th>22</th>\n",
       "      <td>string_value_22</td>\n",
       "      <td>False</td>\n",
       "      <td>[22, 44, 66]</td>\n",
       "      <td>01/01/1922</td>\n",
       "      <td>A</td>\n",
       "      <td>$2200</td>\n",
       "      <td>(1980.0, 3960.0]</td>\n",
       "    </tr>\n",
       "    <tr>\n",
       "      <th>53</th>\n",
       "      <td>string_value_53</td>\n",
       "      <td>True</td>\n",
       "      <td>[53, 106, 159]</td>\n",
       "      <td>01/01/1953</td>\n",
       "      <td>B</td>\n",
       "      <td>$5300</td>\n",
       "      <td>(3960.0, 5940.0]</td>\n",
       "    </tr>\n",
       "    <tr>\n",
       "      <th>3</th>\n",
       "      <td>string_value_3</td>\n",
       "      <td>True</td>\n",
       "      <td>[3, 6, 9]</td>\n",
       "      <td>01/01/1903</td>\n",
       "      <td>A</td>\n",
       "      <td>$300</td>\n",
       "      <td>(-9.9, 1980.0]</td>\n",
       "    </tr>\n",
       "    <tr>\n",
       "      <th>99</th>\n",
       "      <td>string_value_99</td>\n",
       "      <td>True</td>\n",
       "      <td>[99, 198, 297]</td>\n",
       "      <td>01/01/1999</td>\n",
       "      <td>C</td>\n",
       "      <td>$9900</td>\n",
       "      <td>(7920.0, 9900.0]</td>\n",
       "    </tr>\n",
       "    <tr>\n",
       "      <th>39</th>\n",
       "      <td>string_value_39</td>\n",
       "      <td>True</td>\n",
       "      <td>[39, 78, 117]</td>\n",
       "      <td>01/01/1939</td>\n",
       "      <td>B</td>\n",
       "      <td>$3900</td>\n",
       "      <td>(1980.0, 3960.0]</td>\n",
       "    </tr>\n",
       "    <tr>\n",
       "      <th>49</th>\n",
       "      <td>string_value_49</td>\n",
       "      <td>True</td>\n",
       "      <td>[49, 98, 147]</td>\n",
       "      <td>01/01/1949</td>\n",
       "      <td>B</td>\n",
       "      <td>$4900</td>\n",
       "      <td>(3960.0, 5940.0]</td>\n",
       "    </tr>\n",
       "    <tr>\n",
       "      <th>58</th>\n",
       "      <td>string_value_58</td>\n",
       "      <td>False</td>\n",
       "      <td>[58, 116, 174]</td>\n",
       "      <td>01/01/1958</td>\n",
       "      <td>B</td>\n",
       "      <td>$5800</td>\n",
       "      <td>(3960.0, 5940.0]</td>\n",
       "    </tr>\n",
       "    <tr>\n",
       "      <th>23</th>\n",
       "      <td>string_value_23</td>\n",
       "      <td>True</td>\n",
       "      <td>[23, 46, 69]</td>\n",
       "      <td>01/01/1923</td>\n",
       "      <td>A</td>\n",
       "      <td>$2300</td>\n",
       "      <td>(1980.0, 3960.0]</td>\n",
       "    </tr>\n",
       "  </tbody>\n",
       "</table>\n",
       "</div>"
      ],
      "text/plain": [
       "      string_column  binary_column     list_column date_column  \\\n",
       "81  string_value_81           True  [81, 162, 243]  01/01/1981   \n",
       "83  string_value_83           True  [83, 166, 249]  01/01/1983   \n",
       "22  string_value_22          False    [22, 44, 66]  01/01/1922   \n",
       "53  string_value_53           True  [53, 106, 159]  01/01/1953   \n",
       "3    string_value_3           True       [3, 6, 9]  01/01/1903   \n",
       "99  string_value_99           True  [99, 198, 297]  01/01/1999   \n",
       "39  string_value_39           True   [39, 78, 117]  01/01/1939   \n",
       "49  string_value_49           True   [49, 98, 147]  01/01/1949   \n",
       "58  string_value_58          False  [58, 116, 174]  01/01/1958   \n",
       "23  string_value_23           True    [23, 46, 69]  01/01/1923   \n",
       "\n",
       "   three_categories dollar_values dollar_categories  \n",
       "81                C         $8100  (7920.0, 9900.0]  \n",
       "83                C         $8300  (7920.0, 9900.0]  \n",
       "22                A         $2200  (1980.0, 3960.0]  \n",
       "53                B         $5300  (3960.0, 5940.0]  \n",
       "3                 A          $300    (-9.9, 1980.0]  \n",
       "99                C         $9900  (7920.0, 9900.0]  \n",
       "39                B         $3900  (1980.0, 3960.0]  \n",
       "49                B         $4900  (3960.0, 5940.0]  \n",
       "58                B         $5800  (3960.0, 5940.0]  \n",
       "23                A         $2300  (1980.0, 3960.0]  "
      ]
     },
     "execution_count": 11,
     "metadata": {},
     "output_type": "execute_result"
    }
   ],
   "source": [
    "my_first_df['dollar_categories'] = dollar_categories\n",
    "sample_check = my_first_df.sample(10)\n",
    "sample_check"
   ]
  },
  {
   "cell_type": "markdown",
   "metadata": {},
   "source": [
    "Стойностите изглеждат правилни, нека им зададем подходящи етикети."
   ]
  },
  {
   "cell_type": "code",
   "execution_count": 12,
   "metadata": {},
   "outputs": [
    {
     "data": {
      "text/html": [
       "<div>\n",
       "<style scoped>\n",
       "    .dataframe tbody tr th:only-of-type {\n",
       "        vertical-align: middle;\n",
       "    }\n",
       "\n",
       "    .dataframe tbody tr th {\n",
       "        vertical-align: top;\n",
       "    }\n",
       "\n",
       "    .dataframe thead th {\n",
       "        text-align: right;\n",
       "    }\n",
       "</style>\n",
       "<table border=\"1\" class=\"dataframe\">\n",
       "  <thead>\n",
       "    <tr style=\"text-align: right;\">\n",
       "      <th></th>\n",
       "      <th>string_column</th>\n",
       "      <th>binary_column</th>\n",
       "      <th>list_column</th>\n",
       "      <th>date_column</th>\n",
       "      <th>three_categories</th>\n",
       "      <th>dollar_values</th>\n",
       "      <th>dollar_categories</th>\n",
       "    </tr>\n",
       "  </thead>\n",
       "  <tbody>\n",
       "    <tr>\n",
       "      <th>6</th>\n",
       "      <td>string_value_6</td>\n",
       "      <td>False</td>\n",
       "      <td>[6, 12, 18]</td>\n",
       "      <td>01/01/1906</td>\n",
       "      <td>A</td>\n",
       "      <td>$600</td>\n",
       "      <td>dollar_category_1</td>\n",
       "    </tr>\n",
       "    <tr>\n",
       "      <th>50</th>\n",
       "      <td>string_value_50</td>\n",
       "      <td>False</td>\n",
       "      <td>[50, 100, 150]</td>\n",
       "      <td>01/01/1950</td>\n",
       "      <td>B</td>\n",
       "      <td>$5000</td>\n",
       "      <td>dollar_category_3</td>\n",
       "    </tr>\n",
       "    <tr>\n",
       "      <th>19</th>\n",
       "      <td>string_value_19</td>\n",
       "      <td>True</td>\n",
       "      <td>[19, 38, 57]</td>\n",
       "      <td>01/01/1919</td>\n",
       "      <td>A</td>\n",
       "      <td>$1900</td>\n",
       "      <td>dollar_category_1</td>\n",
       "    </tr>\n",
       "    <tr>\n",
       "      <th>16</th>\n",
       "      <td>string_value_16</td>\n",
       "      <td>False</td>\n",
       "      <td>[16, 32, 48]</td>\n",
       "      <td>01/01/1916</td>\n",
       "      <td>A</td>\n",
       "      <td>$1600</td>\n",
       "      <td>dollar_category_1</td>\n",
       "    </tr>\n",
       "    <tr>\n",
       "      <th>82</th>\n",
       "      <td>string_value_82</td>\n",
       "      <td>False</td>\n",
       "      <td>[82, 164, 246]</td>\n",
       "      <td>01/01/1982</td>\n",
       "      <td>C</td>\n",
       "      <td>$8200</td>\n",
       "      <td>dollar_category_5</td>\n",
       "    </tr>\n",
       "    <tr>\n",
       "      <th>59</th>\n",
       "      <td>string_value_59</td>\n",
       "      <td>True</td>\n",
       "      <td>[59, 118, 177]</td>\n",
       "      <td>01/01/1959</td>\n",
       "      <td>B</td>\n",
       "      <td>$5900</td>\n",
       "      <td>dollar_category_3</td>\n",
       "    </tr>\n",
       "    <tr>\n",
       "      <th>65</th>\n",
       "      <td>string_value_65</td>\n",
       "      <td>True</td>\n",
       "      <td>[65, 130, 195]</td>\n",
       "      <td>01/01/1965</td>\n",
       "      <td>B</td>\n",
       "      <td>$6500</td>\n",
       "      <td>dollar_category_4</td>\n",
       "    </tr>\n",
       "    <tr>\n",
       "      <th>72</th>\n",
       "      <td>string_value_72</td>\n",
       "      <td>False</td>\n",
       "      <td>[72, 144, 216]</td>\n",
       "      <td>01/01/1972</td>\n",
       "      <td>C</td>\n",
       "      <td>$7200</td>\n",
       "      <td>dollar_category_4</td>\n",
       "    </tr>\n",
       "    <tr>\n",
       "      <th>79</th>\n",
       "      <td>string_value_79</td>\n",
       "      <td>True</td>\n",
       "      <td>[79, 158, 237]</td>\n",
       "      <td>01/01/1979</td>\n",
       "      <td>C</td>\n",
       "      <td>$7900</td>\n",
       "      <td>dollar_category_4</td>\n",
       "    </tr>\n",
       "    <tr>\n",
       "      <th>14</th>\n",
       "      <td>string_value_14</td>\n",
       "      <td>False</td>\n",
       "      <td>[14, 28, 42]</td>\n",
       "      <td>01/01/1914</td>\n",
       "      <td>A</td>\n",
       "      <td>$1400</td>\n",
       "      <td>dollar_category_1</td>\n",
       "    </tr>\n",
       "  </tbody>\n",
       "</table>\n",
       "</div>"
      ],
      "text/plain": [
       "      string_column  binary_column     list_column date_column  \\\n",
       "6    string_value_6          False     [6, 12, 18]  01/01/1906   \n",
       "50  string_value_50          False  [50, 100, 150]  01/01/1950   \n",
       "19  string_value_19           True    [19, 38, 57]  01/01/1919   \n",
       "16  string_value_16          False    [16, 32, 48]  01/01/1916   \n",
       "82  string_value_82          False  [82, 164, 246]  01/01/1982   \n",
       "59  string_value_59           True  [59, 118, 177]  01/01/1959   \n",
       "65  string_value_65           True  [65, 130, 195]  01/01/1965   \n",
       "72  string_value_72          False  [72, 144, 216]  01/01/1972   \n",
       "79  string_value_79           True  [79, 158, 237]  01/01/1979   \n",
       "14  string_value_14          False    [14, 28, 42]  01/01/1914   \n",
       "\n",
       "   three_categories dollar_values  dollar_categories  \n",
       "6                 A          $600  dollar_category_1  \n",
       "50                B         $5000  dollar_category_3  \n",
       "19                A         $1900  dollar_category_1  \n",
       "16                A         $1600  dollar_category_1  \n",
       "82                C         $8200  dollar_category_5  \n",
       "59                B         $5900  dollar_category_3  \n",
       "65                B         $6500  dollar_category_4  \n",
       "72                C         $7200  dollar_category_4  \n",
       "79                C         $7900  dollar_category_4  \n",
       "14                A         $1400  dollar_category_1  "
      ]
     },
     "execution_count": 12,
     "metadata": {},
     "output_type": "execute_result"
    }
   ],
   "source": [
    "dollar_categories_labelled = pd.cut(\n",
    "    dollar_values_numerical,\n",
    "    bins = n_categories,\n",
    "    labels = ['dollar_category_'+str(i) for i in range(1, n_categories+1)]\n",
    ")\n",
    "my_first_df['dollar_categories'] = dollar_categories_labelled\n",
    "sample_check = my_first_df.sample(10)\n",
    "sample_check"
   ]
  },
  {
   "cell_type": "markdown",
   "metadata": {},
   "source": [
    "Ако получим триизмерни данни, където всеки запис на колонката съдържа списък, често помага да го превърнем в отделни колонки."
   ]
  },
  {
   "cell_type": "code",
   "execution_count": 13,
   "metadata": {},
   "outputs": [
    {
     "data": {
      "text/plain": [
       "0     [0, 0, 0]\n",
       "1     [1, 2, 3]\n",
       "2     [2, 4, 6]\n",
       "3     [3, 6, 9]\n",
       "4    [4, 8, 12]\n",
       "Name: list_column, dtype: object"
      ]
     },
     "execution_count": 13,
     "metadata": {},
     "output_type": "execute_result"
    }
   ],
   "source": [
    "my_first_df.list_column.head()"
   ]
  },
  {
   "cell_type": "code",
   "execution_count": 14,
   "metadata": {},
   "outputs": [
    {
     "data": {
      "text/plain": [
       "0    0\n",
       "1    2\n",
       "2    4\n",
       "3    6\n",
       "4    8\n",
       "Name: list_column, dtype: int64"
      ]
     },
     "execution_count": 14,
     "metadata": {},
     "output_type": "execute_result"
    }
   ],
   "source": [
    "element_2 = my_first_df.list_column.str[1]\n",
    "element_2.head()"
   ]
  },
  {
   "cell_type": "markdown",
   "metadata": {},
   "source": [
    "Когато работим с алгоритми, обикновено се налага да превърнем категорийните си стойности в числа. Най-простият начин да стане това е да зададем числена стойност на всяка категория чрез речник и да я приложим върху колонката."
   ]
  },
  {
   "cell_type": "code",
   "execution_count": 15,
   "metadata": {},
   "outputs": [
    {
     "data": {
      "text/plain": [
       "83    C\n",
       "53    B\n",
       "70    C\n",
       "45    B\n",
       "44    B\n",
       "Name: three_categories, dtype: object"
      ]
     },
     "execution_count": 15,
     "metadata": {},
     "output_type": "execute_result"
    }
   ],
   "source": [
    "my_first_df.three_categories.sample(5, random_state=42) \n",
    "# random_state подсигурява едни и същи псевдо-произволни стойности"
   ]
  },
  {
   "cell_type": "code",
   "execution_count": 16,
   "metadata": {},
   "outputs": [
    {
     "data": {
      "text/plain": [
       "83    3\n",
       "53    2\n",
       "70    3\n",
       "45    2\n",
       "44    2\n",
       "Name: three_categories, dtype: int64"
      ]
     },
     "execution_count": 16,
     "metadata": {},
     "output_type": "execute_result"
    }
   ],
   "source": [
    "value_recode = {\n",
    "    'A': 1,\n",
    "    'B': 2,\n",
    "    'C': 3\n",
    "}\n",
    "three_categories_recoded = my_first_df.three_categories.map(value_recode)\n",
    "three_categories_recoded.sample(5, random_state=42)"
   ]
  },
  {
   "cell_type": "markdown",
   "metadata": {},
   "source": [
    "Въпреки това, ако трите категории нямат ординално взаимоотношение (напр. имена на градове), това би подвело повечето алгоритми да считат, че такова съществува. Затова, ако работим с номинални качествени стойности, най-сигурно е да ги разбием на фиктивни променливи (dummy variables, а процесът е още познат като one-hot encoding), където всяка стойност бива превърната в отделна променлива, където тя получава 0 или 1 в зависимост от това дали е отбелязана."
   ]
  },
  {
   "cell_type": "code",
   "execution_count": 17,
   "metadata": {},
   "outputs": [
    {
     "data": {
      "text/html": [
       "<div>\n",
       "<style scoped>\n",
       "    .dataframe tbody tr th:only-of-type {\n",
       "        vertical-align: middle;\n",
       "    }\n",
       "\n",
       "    .dataframe tbody tr th {\n",
       "        vertical-align: top;\n",
       "    }\n",
       "\n",
       "    .dataframe thead th {\n",
       "        text-align: right;\n",
       "    }\n",
       "</style>\n",
       "<table border=\"1\" class=\"dataframe\">\n",
       "  <thead>\n",
       "    <tr style=\"text-align: right;\">\n",
       "      <th></th>\n",
       "      <th>A</th>\n",
       "      <th>B</th>\n",
       "      <th>C</th>\n",
       "    </tr>\n",
       "  </thead>\n",
       "  <tbody>\n",
       "    <tr>\n",
       "      <th>83</th>\n",
       "      <td>0</td>\n",
       "      <td>0</td>\n",
       "      <td>1</td>\n",
       "    </tr>\n",
       "    <tr>\n",
       "      <th>53</th>\n",
       "      <td>0</td>\n",
       "      <td>1</td>\n",
       "      <td>0</td>\n",
       "    </tr>\n",
       "    <tr>\n",
       "      <th>70</th>\n",
       "      <td>0</td>\n",
       "      <td>0</td>\n",
       "      <td>1</td>\n",
       "    </tr>\n",
       "    <tr>\n",
       "      <th>45</th>\n",
       "      <td>0</td>\n",
       "      <td>1</td>\n",
       "      <td>0</td>\n",
       "    </tr>\n",
       "    <tr>\n",
       "      <th>44</th>\n",
       "      <td>0</td>\n",
       "      <td>1</td>\n",
       "      <td>0</td>\n",
       "    </tr>\n",
       "  </tbody>\n",
       "</table>\n",
       "</div>"
      ],
      "text/plain": [
       "    A  B  C\n",
       "83  0  0  1\n",
       "53  0  1  0\n",
       "70  0  0  1\n",
       "45  0  1  0\n",
       "44  0  1  0"
      ]
     },
     "execution_count": 17,
     "metadata": {},
     "output_type": "execute_result"
    }
   ],
   "source": [
    "one_hot_recode = pd.get_dummies(my_first_df.three_categories)\n",
    "one_hot_recode.sample(5, random_state=42)"
   ]
  },
  {
   "cell_type": "markdown",
   "metadata": {},
   "source": [
    "### Задачи\n",
    "\n",
    " - Намерете и заредете набор данни от Kaggle. Идентифицирайте качествена променлива и я опишете (вкл. дескриптивна статистика).\n",
    " - Рекодирайте променливата във фиктивни променливи."
   ]
  }
 ],
 "metadata": {
  "kernelspec": {
   "display_name": "base",
   "language": "python",
   "name": "python3"
  },
  "language_info": {
   "codemirror_mode": {
    "name": "ipython",
    "version": 3
   },
   "file_extension": ".py",
   "mimetype": "text/x-python",
   "name": "python",
   "nbconvert_exporter": "python",
   "pygments_lexer": "ipython3",
   "version": "3.9.12"
  }
 },
 "nbformat": 4,
 "nbformat_minor": 2
}
