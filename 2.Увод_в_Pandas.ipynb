{
 "cells": [
  {
   "cell_type": "markdown",
   "metadata": {},
   "source": [
    "## ЛУ 2: Увод в Pandas\n",
    "\n",
    "Двата основни класа обект на библиотеката pandas са серия (pd.Series) и рамка данни (pd.DataFrame). \n",
    "\n",
    "\n",
    "### pd.Series\n",
    "\n",
    "Серията представлява структуриран набор от записи, които споделят един тип на данни (цяло число, низ, число с плаваща запетая, списък и др.). Всяка серия притежава определен набор от методи, които позволяват ефикасна работа с всички записи едновременно. Серията притежава и друг набор методи, които зависят от вида на данните в нея. За всяка стойност серията притежава индекс (в този смисъл тя може да бъде разглеждана и като речник, където всеки индекс е ключ, а всеки запис - стойност).\n",
    "\n",
    "Нека демонстрираме някои от основните принципи за боравене със серия:"
   ]
  },
  {
   "cell_type": "code",
   "execution_count": 1,
   "metadata": {},
   "outputs": [],
   "source": [
    "# прието е библиотеката pandas да се импортира със съкращението 'pd'\n",
    "import pandas as pd"
   ]
  },
  {
   "cell_type": "code",
   "execution_count": 2,
   "metadata": {},
   "outputs": [
    {
     "data": {
      "text/plain": [
       "0    my_string_value_0\n",
       "1    my_string_value_1\n",
       "2    my_string_value_2\n",
       "3    my_string_value_3\n",
       "4    my_string_value_4\n",
       "5    my_string_value_5\n",
       "6    my_string_value_6\n",
       "7    my_string_value_7\n",
       "8    my_string_value_8\n",
       "9    my_string_value_9\n",
       "dtype: object"
      ]
     },
     "execution_count": 2,
     "metadata": {},
     "output_type": "execute_result"
    }
   ],
   "source": [
    "sample_range = ['my_string_value_'+ str(i) for i in range(10)] \n",
    "#Горната линия създава списък низове, последван от числа. За повече информация проучи list comprehension.\n",
    "my_first_series = pd.Series(sample_range)\n",
    "my_first_series"
   ]
  },
  {
   "cell_type": "markdown",
   "metadata": {},
   "source": [
    "Както виждаме, срещу всяка стойност от списъка стои автоматично зададен индекс от 0 до 9. Също така, можем да видим вида на данни, в случая - object, защото работим с низове. Можем да извикаме определена стойност или диапазон стойности от серията:"
   ]
  },
  {
   "cell_type": "code",
   "execution_count": 3,
   "metadata": {},
   "outputs": [
    {
     "data": {
      "text/plain": [
       "'my_string_value_5'"
      ]
     },
     "execution_count": 3,
     "metadata": {},
     "output_type": "execute_result"
    }
   ],
   "source": [
    "my_first_series[5]"
   ]
  },
  {
   "cell_type": "code",
   "execution_count": 4,
   "metadata": {},
   "outputs": [
    {
     "data": {
      "text/plain": [
       "5    my_string_value_5\n",
       "6    my_string_value_6\n",
       "7    my_string_value_7\n",
       "dtype: object"
      ]
     },
     "execution_count": 4,
     "metadata": {},
     "output_type": "execute_result"
    }
   ],
   "source": [
    "my_first_series[5:8]"
   ]
  },
  {
   "cell_type": "markdown",
   "metadata": {},
   "source": [
    "Също така можем да изведем само индекса или само стойностите:"
   ]
  },
  {
   "cell_type": "code",
   "execution_count": 5,
   "metadata": {},
   "outputs": [
    {
     "data": {
      "text/plain": [
       "array(['my_string_value_0', 'my_string_value_1', 'my_string_value_2',\n",
       "       'my_string_value_3', 'my_string_value_4'], dtype=object)"
      ]
     },
     "execution_count": 5,
     "metadata": {},
     "output_type": "execute_result"
    }
   ],
   "source": [
    "my_first_series.values[:5]"
   ]
  },
  {
   "cell_type": "code",
   "execution_count": 6,
   "metadata": {},
   "outputs": [
    {
     "data": {
      "text/plain": [
       "RangeIndex(start=0, stop=10, step=1)"
      ]
     },
     "execution_count": 6,
     "metadata": {},
     "output_type": "execute_result"
    }
   ],
   "source": [
    "my_first_series.index"
   ]
  },
  {
   "cell_type": "markdown",
   "metadata": {},
   "source": [
    "Последно, можем да зададем и собствен индекс на определена серия:\n"
   ]
  },
  {
   "cell_type": "code",
   "execution_count": 7,
   "metadata": {},
   "outputs": [
    {
     "data": {
      "text/plain": [
       "cust_index_0    my_string_value_0\n",
       "cust_index_1    my_string_value_1\n",
       "cust_index_2    my_string_value_2\n",
       "cust_index_3    my_string_value_3\n",
       "cust_index_4    my_string_value_4\n",
       "dtype: object"
      ]
     },
     "execution_count": 7,
     "metadata": {},
     "output_type": "execute_result"
    }
   ],
   "source": [
    "my_first_series.index = ['cust_index_' + str(i) for i in my_first_series.index]\n",
    "my_first_series[:'cust_index_4']"
   ]
  },
  {
   "cell_type": "markdown",
   "metadata": {},
   "source": [
    "### pd.DataFrame\n",
    "\n",
    "Рядко боравим с единични серии данни, обикновено работим с рамки данни (DataFrames). В основата си рамката данни представлява набор от серии, които споделят дължината и индекса си, но не и типовете данни вътре. Това ни позволява да работим едновременно с множество видове данни и да извършваме сложни видове индексиране и филтриране. Също така, всяка серия (колона) в рамката данни има свое име (обикновено низ), по което се различава от другите.\n",
    "\n",
    "Нека създадем първата си рамка данни от речник, където ключовете са имената на колонките, а стойностите са списъци от стойности, които да включим:"
   ]
  },
  {
   "cell_type": "code",
   "execution_count": 8,
   "metadata": {},
   "outputs": [
    {
     "data": {
      "text/html": [
       "<div>\n",
       "<style scoped>\n",
       "    .dataframe tbody tr th:only-of-type {\n",
       "        vertical-align: middle;\n",
       "    }\n",
       "\n",
       "    .dataframe tbody tr th {\n",
       "        vertical-align: top;\n",
       "    }\n",
       "\n",
       "    .dataframe thead th {\n",
       "        text-align: right;\n",
       "    }\n",
       "</style>\n",
       "<table border=\"1\" class=\"dataframe\">\n",
       "  <thead>\n",
       "    <tr style=\"text-align: right;\">\n",
       "      <th></th>\n",
       "      <th>int_column</th>\n",
       "      <th>float_column</th>\n",
       "      <th>string_column</th>\n",
       "      <th>binary_column</th>\n",
       "      <th>list_column</th>\n",
       "      <th>date_column</th>\n",
       "    </tr>\n",
       "  </thead>\n",
       "  <tbody>\n",
       "    <tr>\n",
       "      <th>0</th>\n",
       "      <td>1</td>\n",
       "      <td>0.0</td>\n",
       "      <td>string_value_0</td>\n",
       "      <td>False</td>\n",
       "      <td>[0, 0, 0]</td>\n",
       "      <td>01/01/1900</td>\n",
       "    </tr>\n",
       "    <tr>\n",
       "      <th>1</th>\n",
       "      <td>2</td>\n",
       "      <td>0.1</td>\n",
       "      <td>string_value_1</td>\n",
       "      <td>True</td>\n",
       "      <td>[1, 2, 3]</td>\n",
       "      <td>01/01/1901</td>\n",
       "    </tr>\n",
       "    <tr>\n",
       "      <th>2</th>\n",
       "      <td>3</td>\n",
       "      <td>0.2</td>\n",
       "      <td>string_value_2</td>\n",
       "      <td>False</td>\n",
       "      <td>[2, 4, 6]</td>\n",
       "      <td>01/01/1902</td>\n",
       "    </tr>\n",
       "    <tr>\n",
       "      <th>3</th>\n",
       "      <td>4</td>\n",
       "      <td>0.3</td>\n",
       "      <td>string_value_3</td>\n",
       "      <td>True</td>\n",
       "      <td>[3, 6, 9]</td>\n",
       "      <td>01/01/1903</td>\n",
       "    </tr>\n",
       "    <tr>\n",
       "      <th>4</th>\n",
       "      <td>5</td>\n",
       "      <td>0.4</td>\n",
       "      <td>string_value_4</td>\n",
       "      <td>False</td>\n",
       "      <td>[4, 8, 12]</td>\n",
       "      <td>01/01/1904</td>\n",
       "    </tr>\n",
       "  </tbody>\n",
       "</table>\n",
       "</div>"
      ],
      "text/plain": [
       "   int_column  float_column   string_column  binary_column list_column  \\\n",
       "0           1           0.0  string_value_0          False   [0, 0, 0]   \n",
       "1           2           0.1  string_value_1           True   [1, 2, 3]   \n",
       "2           3           0.2  string_value_2          False   [2, 4, 6]   \n",
       "3           4           0.3  string_value_3           True   [3, 6, 9]   \n",
       "4           5           0.4  string_value_4          False  [4, 8, 12]   \n",
       "\n",
       "  date_column  \n",
       "0  01/01/1900  \n",
       "1  01/01/1901  \n",
       "2  01/01/1902  \n",
       "3  01/01/1903  \n",
       "4  01/01/1904  "
      ]
     },
     "execution_count": 8,
     "metadata": {},
     "output_type": "execute_result"
    }
   ],
   "source": [
    "dataframe_length = 100\n",
    "dict_for_pd_df = {\n",
    "    'int_column': [i+1 for i in range(dataframe_length)],\n",
    "    'float_column': [i/10 for i in range(dataframe_length)],\n",
    "    'string_column': ['string_value_'+str(i) for i in range(dataframe_length)],\n",
    "    'binary_column': [True if (i+1) % 2==0 else False for i in range(dataframe_length)], #Ако остатъкът от делене на 2 е 0, тогава задаваме вярна стойност: тази колонка проверява дали имаме четни числа или не (добавяме 1, за да отговаря на int_column).\n",
    "    'list_column': [[i, i*2, i*3] for i in range(dataframe_length)],\n",
    "    'date_column': ['01/01/' + str(1900+i) for i in range(dataframe_length)]\n",
    "}\n",
    "my_first_df = pd.DataFrame(dict_for_pd_df)\n",
    "\n",
    "#методът head ни позволява да прегледаме първите n реда на рамката данни (tail прави обратното)\n",
    "my_first_df.head(5)"
   ]
  },
  {
   "cell_type": "markdown",
   "metadata": {},
   "source": [
    "Можем да проверим наличните видове данни в рамката. По-сложни видове данни се интерпретират като 'object':"
   ]
  },
  {
   "cell_type": "code",
   "execution_count": 9,
   "metadata": {},
   "outputs": [
    {
     "data": {
      "text/plain": [
       "int_column         int64\n",
       "float_column     float64\n",
       "string_column     object\n",
       "binary_column       bool\n",
       "list_column       object\n",
       "date_column       object\n",
       "dtype: object"
      ]
     },
     "execution_count": 9,
     "metadata": {},
     "output_type": "execute_result"
    }
   ],
   "source": [
    "my_first_df.dtypes"
   ]
  },
  {
   "cell_type": "markdown",
   "metadata": {},
   "source": [
    "Можем да извикаме списък с различните имена на сериите чрез атрибута columns:"
   ]
  },
  {
   "cell_type": "code",
   "execution_count": 10,
   "metadata": {},
   "outputs": [
    {
     "data": {
      "text/plain": [
       "Index(['int_column', 'float_column', 'string_column', 'binary_column',\n",
       "       'list_column', 'date_column'],\n",
       "      dtype='object')"
      ]
     },
     "execution_count": 10,
     "metadata": {},
     "output_type": "execute_result"
    }
   ],
   "source": [
    "my_first_df.columns"
   ]
  },
  {
   "cell_type": "markdown",
   "metadata": {},
   "source": [
    "Ако искаме да работим с някоя определена серия в рамката данни, можем да я повикаме по два начина:"
   ]
  },
  {
   "cell_type": "code",
   "execution_count": 11,
   "metadata": {},
   "outputs": [
    {
     "data": {
      "text/plain": [
       "0       1\n",
       "1       2\n",
       "2       3\n",
       "3       4\n",
       "4       5\n",
       "     ... \n",
       "95     96\n",
       "96     97\n",
       "97     98\n",
       "98     99\n",
       "99    100\n",
       "Name: int_column, Length: 100, dtype: int64"
      ]
     },
     "execution_count": 11,
     "metadata": {},
     "output_type": "execute_result"
    }
   ],
   "source": [
    "my_first_df.int_column"
   ]
  },
  {
   "cell_type": "code",
   "execution_count": 12,
   "metadata": {},
   "outputs": [
    {
     "data": {
      "text/plain": [
       "0       1\n",
       "1       2\n",
       "2       3\n",
       "3       4\n",
       "4       5\n",
       "     ... \n",
       "95     96\n",
       "96     97\n",
       "97     98\n",
       "98     99\n",
       "99    100\n",
       "Name: int_column, Length: 100, dtype: int64"
      ]
     },
     "execution_count": 12,
     "metadata": {},
     "output_type": "execute_result"
    }
   ],
   "source": [
    "#полезно когато имаме празни места в името на колонката (напр \"int column\")\n",
    "my_first_df['int_column'] "
   ]
  },
  {
   "cell_type": "markdown",
   "metadata": {},
   "source": [
    "За да демонстрираме някои концепции, ще сменим индекса на низов:"
   ]
  },
  {
   "cell_type": "code",
   "execution_count": 13,
   "metadata": {},
   "outputs": [
    {
     "data": {
      "text/html": [
       "<div>\n",
       "<style scoped>\n",
       "    .dataframe tbody tr th:only-of-type {\n",
       "        vertical-align: middle;\n",
       "    }\n",
       "\n",
       "    .dataframe tbody tr th {\n",
       "        vertical-align: top;\n",
       "    }\n",
       "\n",
       "    .dataframe thead th {\n",
       "        text-align: right;\n",
       "    }\n",
       "</style>\n",
       "<table border=\"1\" class=\"dataframe\">\n",
       "  <thead>\n",
       "    <tr style=\"text-align: right;\">\n",
       "      <th></th>\n",
       "      <th>int_column</th>\n",
       "      <th>float_column</th>\n",
       "      <th>string_column</th>\n",
       "      <th>binary_column</th>\n",
       "      <th>list_column</th>\n",
       "      <th>date_column</th>\n",
       "    </tr>\n",
       "  </thead>\n",
       "  <tbody>\n",
       "    <tr>\n",
       "      <th>i0</th>\n",
       "      <td>1</td>\n",
       "      <td>0.0</td>\n",
       "      <td>string_value_0</td>\n",
       "      <td>False</td>\n",
       "      <td>[0, 0, 0]</td>\n",
       "      <td>01/01/1900</td>\n",
       "    </tr>\n",
       "    <tr>\n",
       "      <th>i1</th>\n",
       "      <td>2</td>\n",
       "      <td>0.1</td>\n",
       "      <td>string_value_1</td>\n",
       "      <td>True</td>\n",
       "      <td>[1, 2, 3]</td>\n",
       "      <td>01/01/1901</td>\n",
       "    </tr>\n",
       "    <tr>\n",
       "      <th>i2</th>\n",
       "      <td>3</td>\n",
       "      <td>0.2</td>\n",
       "      <td>string_value_2</td>\n",
       "      <td>False</td>\n",
       "      <td>[2, 4, 6]</td>\n",
       "      <td>01/01/1902</td>\n",
       "    </tr>\n",
       "    <tr>\n",
       "      <th>i3</th>\n",
       "      <td>4</td>\n",
       "      <td>0.3</td>\n",
       "      <td>string_value_3</td>\n",
       "      <td>True</td>\n",
       "      <td>[3, 6, 9]</td>\n",
       "      <td>01/01/1903</td>\n",
       "    </tr>\n",
       "    <tr>\n",
       "      <th>i4</th>\n",
       "      <td>5</td>\n",
       "      <td>0.4</td>\n",
       "      <td>string_value_4</td>\n",
       "      <td>False</td>\n",
       "      <td>[4, 8, 12]</td>\n",
       "      <td>01/01/1904</td>\n",
       "    </tr>\n",
       "  </tbody>\n",
       "</table>\n",
       "</div>"
      ],
      "text/plain": [
       "    int_column  float_column   string_column  binary_column list_column  \\\n",
       "i0           1           0.0  string_value_0          False   [0, 0, 0]   \n",
       "i1           2           0.1  string_value_1           True   [1, 2, 3]   \n",
       "i2           3           0.2  string_value_2          False   [2, 4, 6]   \n",
       "i3           4           0.3  string_value_3           True   [3, 6, 9]   \n",
       "i4           5           0.4  string_value_4          False  [4, 8, 12]   \n",
       "\n",
       "   date_column  \n",
       "i0  01/01/1900  \n",
       "i1  01/01/1901  \n",
       "i2  01/01/1902  \n",
       "i3  01/01/1903  \n",
       "i4  01/01/1904  "
      ]
     },
     "execution_count": 13,
     "metadata": {},
     "output_type": "execute_result"
    }
   ],
   "source": [
    "my_first_df.index = ['i' + str(i) for i in my_first_df.index]\n",
    "my_first_df.head()"
   ]
  },
  {
   "cell_type": "markdown",
   "metadata": {},
   "source": [
    "### Индексиране\n",
    "\n",
    "Ако искаме да извлечем определена единична стойност от рамката данни, използваме методите at и iat. (Да се отбележи, че и двата очакват квадратни скоби за индексиране след себе си!) Първият индексира по експлицитния (в нашия случай, низов) индекс, докато вторият използва имплицитния индекс, който винаги се състои от цели числа. Например, искаме да намерим стойността от колонката string_column на ред 4:"
   ]
  },
  {
   "cell_type": "code",
   "execution_count": 14,
   "metadata": {},
   "outputs": [
    {
     "data": {
      "text/plain": [
       "'string_value_3'"
      ]
     },
     "execution_count": 14,
     "metadata": {},
     "output_type": "execute_result"
    }
   ],
   "source": [
    "my_first_df.at['i3', 'string_column']"
   ]
  },
  {
   "cell_type": "code",
   "execution_count": 15,
   "metadata": {},
   "outputs": [
    {
     "data": {
      "text/plain": [
       "'string_value_3'"
      ]
     },
     "execution_count": 15,
     "metadata": {},
     "output_type": "execute_result"
    }
   ],
   "source": [
    "my_first_df.iat[3, 2] #четвъртият ред е с индекс 3, а string_column е третата колонка (индекс 2)"
   ]
  },
  {
   "cell_type": "markdown",
   "metadata": {},
   "source": [
    "Отбележете, че първо се въвежда индексът на реда, а после този на колонката: редовете винаги са първото измерение (axis=0), докато колонките - второто (axis=1)."
   ]
  },
  {
   "cell_type": "markdown",
   "metadata": {},
   "source": [
    "Можем да извикаме и по-големи масиви от рамката си чрез съответстващите методи loc и iloc, които приемат диапазони. Да речем, че искаме да изкараме редове 7-9 от колонките float, string и binary:"
   ]
  },
  {
   "cell_type": "code",
   "execution_count": 16,
   "metadata": {},
   "outputs": [
    {
     "data": {
      "text/html": [
       "<div>\n",
       "<style scoped>\n",
       "    .dataframe tbody tr th:only-of-type {\n",
       "        vertical-align: middle;\n",
       "    }\n",
       "\n",
       "    .dataframe tbody tr th {\n",
       "        vertical-align: top;\n",
       "    }\n",
       "\n",
       "    .dataframe thead th {\n",
       "        text-align: right;\n",
       "    }\n",
       "</style>\n",
       "<table border=\"1\" class=\"dataframe\">\n",
       "  <thead>\n",
       "    <tr style=\"text-align: right;\">\n",
       "      <th></th>\n",
       "      <th>float_column</th>\n",
       "      <th>string_column</th>\n",
       "      <th>binary_column</th>\n",
       "    </tr>\n",
       "  </thead>\n",
       "  <tbody>\n",
       "    <tr>\n",
       "      <th>i6</th>\n",
       "      <td>0.6</td>\n",
       "      <td>string_value_6</td>\n",
       "      <td>False</td>\n",
       "    </tr>\n",
       "    <tr>\n",
       "      <th>i7</th>\n",
       "      <td>0.7</td>\n",
       "      <td>string_value_7</td>\n",
       "      <td>True</td>\n",
       "    </tr>\n",
       "    <tr>\n",
       "      <th>i8</th>\n",
       "      <td>0.8</td>\n",
       "      <td>string_value_8</td>\n",
       "      <td>False</td>\n",
       "    </tr>\n",
       "  </tbody>\n",
       "</table>\n",
       "</div>"
      ],
      "text/plain": [
       "    float_column   string_column  binary_column\n",
       "i6           0.6  string_value_6          False\n",
       "i7           0.7  string_value_7           True\n",
       "i8           0.8  string_value_8          False"
      ]
     },
     "execution_count": 16,
     "metadata": {},
     "output_type": "execute_result"
    }
   ],
   "source": [
    "my_first_df.loc['i6':'i8', ['float_column', 'string_column', 'binary_column']]"
   ]
  },
  {
   "cell_type": "code",
   "execution_count": 17,
   "metadata": {},
   "outputs": [
    {
     "data": {
      "text/html": [
       "<div>\n",
       "<style scoped>\n",
       "    .dataframe tbody tr th:only-of-type {\n",
       "        vertical-align: middle;\n",
       "    }\n",
       "\n",
       "    .dataframe tbody tr th {\n",
       "        vertical-align: top;\n",
       "    }\n",
       "\n",
       "    .dataframe thead th {\n",
       "        text-align: right;\n",
       "    }\n",
       "</style>\n",
       "<table border=\"1\" class=\"dataframe\">\n",
       "  <thead>\n",
       "    <tr style=\"text-align: right;\">\n",
       "      <th></th>\n",
       "      <th>float_column</th>\n",
       "      <th>string_column</th>\n",
       "      <th>binary_column</th>\n",
       "    </tr>\n",
       "  </thead>\n",
       "  <tbody>\n",
       "    <tr>\n",
       "      <th>i6</th>\n",
       "      <td>0.6</td>\n",
       "      <td>string_value_6</td>\n",
       "      <td>False</td>\n",
       "    </tr>\n",
       "    <tr>\n",
       "      <th>i7</th>\n",
       "      <td>0.7</td>\n",
       "      <td>string_value_7</td>\n",
       "      <td>True</td>\n",
       "    </tr>\n",
       "    <tr>\n",
       "      <th>i8</th>\n",
       "      <td>0.8</td>\n",
       "      <td>string_value_8</td>\n",
       "      <td>False</td>\n",
       "    </tr>\n",
       "  </tbody>\n",
       "</table>\n",
       "</div>"
      ],
      "text/plain": [
       "    float_column   string_column  binary_column\n",
       "i6           0.6  string_value_6          False\n",
       "i7           0.7  string_value_7           True\n",
       "i8           0.8  string_value_8          False"
      ]
     },
     "execution_count": 17,
     "metadata": {},
     "output_type": "execute_result"
    }
   ],
   "source": [
    "my_first_df.iloc[[6,7,8], 1:4]"
   ]
  },
  {
   "cell_type": "markdown",
   "metadata": {},
   "source": [
    "### Филтриране\n",
    "\n",
    "Редом с индексирането, филтрирането на една рамка данни е от най-полезните методи за боравене с нея. То се случва чрез сложна форма на индексиране, която създава бинарни правила. Например, долу филтрираме рамката данни според колонката binary_column и получаваме само редовете, където тя е True:"
   ]
  },
  {
   "cell_type": "code",
   "execution_count": 18,
   "metadata": {},
   "outputs": [
    {
     "data": {
      "text/html": [
       "<div>\n",
       "<style scoped>\n",
       "    .dataframe tbody tr th:only-of-type {\n",
       "        vertical-align: middle;\n",
       "    }\n",
       "\n",
       "    .dataframe tbody tr th {\n",
       "        vertical-align: top;\n",
       "    }\n",
       "\n",
       "    .dataframe thead th {\n",
       "        text-align: right;\n",
       "    }\n",
       "</style>\n",
       "<table border=\"1\" class=\"dataframe\">\n",
       "  <thead>\n",
       "    <tr style=\"text-align: right;\">\n",
       "      <th></th>\n",
       "      <th>int_column</th>\n",
       "      <th>float_column</th>\n",
       "      <th>string_column</th>\n",
       "      <th>binary_column</th>\n",
       "      <th>list_column</th>\n",
       "      <th>date_column</th>\n",
       "    </tr>\n",
       "  </thead>\n",
       "  <tbody>\n",
       "    <tr>\n",
       "      <th>i1</th>\n",
       "      <td>2</td>\n",
       "      <td>0.1</td>\n",
       "      <td>string_value_1</td>\n",
       "      <td>True</td>\n",
       "      <td>[1, 2, 3]</td>\n",
       "      <td>01/01/1901</td>\n",
       "    </tr>\n",
       "    <tr>\n",
       "      <th>i3</th>\n",
       "      <td>4</td>\n",
       "      <td>0.3</td>\n",
       "      <td>string_value_3</td>\n",
       "      <td>True</td>\n",
       "      <td>[3, 6, 9]</td>\n",
       "      <td>01/01/1903</td>\n",
       "    </tr>\n",
       "    <tr>\n",
       "      <th>i5</th>\n",
       "      <td>6</td>\n",
       "      <td>0.5</td>\n",
       "      <td>string_value_5</td>\n",
       "      <td>True</td>\n",
       "      <td>[5, 10, 15]</td>\n",
       "      <td>01/01/1905</td>\n",
       "    </tr>\n",
       "    <tr>\n",
       "      <th>i7</th>\n",
       "      <td>8</td>\n",
       "      <td>0.7</td>\n",
       "      <td>string_value_7</td>\n",
       "      <td>True</td>\n",
       "      <td>[7, 14, 21]</td>\n",
       "      <td>01/01/1907</td>\n",
       "    </tr>\n",
       "    <tr>\n",
       "      <th>i9</th>\n",
       "      <td>10</td>\n",
       "      <td>0.9</td>\n",
       "      <td>string_value_9</td>\n",
       "      <td>True</td>\n",
       "      <td>[9, 18, 27]</td>\n",
       "      <td>01/01/1909</td>\n",
       "    </tr>\n",
       "  </tbody>\n",
       "</table>\n",
       "</div>"
      ],
      "text/plain": [
       "    int_column  float_column   string_column  binary_column  list_column  \\\n",
       "i1           2           0.1  string_value_1           True    [1, 2, 3]   \n",
       "i3           4           0.3  string_value_3           True    [3, 6, 9]   \n",
       "i5           6           0.5  string_value_5           True  [5, 10, 15]   \n",
       "i7           8           0.7  string_value_7           True  [7, 14, 21]   \n",
       "i9          10           0.9  string_value_9           True  [9, 18, 27]   \n",
       "\n",
       "   date_column  \n",
       "i1  01/01/1901  \n",
       "i3  01/01/1903  \n",
       "i5  01/01/1905  \n",
       "i7  01/01/1907  \n",
       "i9  01/01/1909  "
      ]
     },
     "execution_count": 18,
     "metadata": {},
     "output_type": "execute_result"
    }
   ],
   "source": [
    "my_first_df[my_first_df.binary_column][:5] # вторите квадратни скоби ограничават записите до първите 5"
   ]
  },
  {
   "cell_type": "markdown",
   "metadata": {},
   "source": [
    "Рядко обаче имаме готови бинарни колонки в рамката данни: обикновено искаме да създадем собствени условия. Нека опитаме да пресъздадем същия филтър, използвайки колонката int_column:"
   ]
  },
  {
   "cell_type": "code",
   "execution_count": 19,
   "metadata": {},
   "outputs": [
    {
     "data": {
      "text/html": [
       "<div>\n",
       "<style scoped>\n",
       "    .dataframe tbody tr th:only-of-type {\n",
       "        vertical-align: middle;\n",
       "    }\n",
       "\n",
       "    .dataframe tbody tr th {\n",
       "        vertical-align: top;\n",
       "    }\n",
       "\n",
       "    .dataframe thead th {\n",
       "        text-align: right;\n",
       "    }\n",
       "</style>\n",
       "<table border=\"1\" class=\"dataframe\">\n",
       "  <thead>\n",
       "    <tr style=\"text-align: right;\">\n",
       "      <th></th>\n",
       "      <th>int_column</th>\n",
       "      <th>float_column</th>\n",
       "      <th>string_column</th>\n",
       "      <th>binary_column</th>\n",
       "      <th>list_column</th>\n",
       "      <th>date_column</th>\n",
       "    </tr>\n",
       "  </thead>\n",
       "  <tbody>\n",
       "    <tr>\n",
       "      <th>i1</th>\n",
       "      <td>2</td>\n",
       "      <td>0.1</td>\n",
       "      <td>string_value_1</td>\n",
       "      <td>True</td>\n",
       "      <td>[1, 2, 3]</td>\n",
       "      <td>01/01/1901</td>\n",
       "    </tr>\n",
       "    <tr>\n",
       "      <th>i3</th>\n",
       "      <td>4</td>\n",
       "      <td>0.3</td>\n",
       "      <td>string_value_3</td>\n",
       "      <td>True</td>\n",
       "      <td>[3, 6, 9]</td>\n",
       "      <td>01/01/1903</td>\n",
       "    </tr>\n",
       "    <tr>\n",
       "      <th>i5</th>\n",
       "      <td>6</td>\n",
       "      <td>0.5</td>\n",
       "      <td>string_value_5</td>\n",
       "      <td>True</td>\n",
       "      <td>[5, 10, 15]</td>\n",
       "      <td>01/01/1905</td>\n",
       "    </tr>\n",
       "    <tr>\n",
       "      <th>i7</th>\n",
       "      <td>8</td>\n",
       "      <td>0.7</td>\n",
       "      <td>string_value_7</td>\n",
       "      <td>True</td>\n",
       "      <td>[7, 14, 21]</td>\n",
       "      <td>01/01/1907</td>\n",
       "    </tr>\n",
       "    <tr>\n",
       "      <th>i9</th>\n",
       "      <td>10</td>\n",
       "      <td>0.9</td>\n",
       "      <td>string_value_9</td>\n",
       "      <td>True</td>\n",
       "      <td>[9, 18, 27]</td>\n",
       "      <td>01/01/1909</td>\n",
       "    </tr>\n",
       "  </tbody>\n",
       "</table>\n",
       "</div>"
      ],
      "text/plain": [
       "    int_column  float_column   string_column  binary_column  list_column  \\\n",
       "i1           2           0.1  string_value_1           True    [1, 2, 3]   \n",
       "i3           4           0.3  string_value_3           True    [3, 6, 9]   \n",
       "i5           6           0.5  string_value_5           True  [5, 10, 15]   \n",
       "i7           8           0.7  string_value_7           True  [7, 14, 21]   \n",
       "i9          10           0.9  string_value_9           True  [9, 18, 27]   \n",
       "\n",
       "   date_column  \n",
       "i1  01/01/1901  \n",
       "i3  01/01/1903  \n",
       "i5  01/01/1905  \n",
       "i7  01/01/1907  \n",
       "i9  01/01/1909  "
      ]
     },
     "execution_count": 19,
     "metadata": {},
     "output_type": "execute_result"
    }
   ],
   "source": [
    "my_first_df[my_first_df.int_column %2 == 0][:5]"
   ]
  },
  {
   "cell_type": "markdown",
   "metadata": {},
   "source": [
    "Още по-интересно е когато можем да комбинираме няколко условия. Нека отново изкараме всички стойности, където int_column е нечетно число, но също така дължината на string_column е над 14 символа:"
   ]
  },
  {
   "cell_type": "code",
   "execution_count": 20,
   "metadata": {},
   "outputs": [
    {
     "data": {
      "text/html": [
       "<div>\n",
       "<style scoped>\n",
       "    .dataframe tbody tr th:only-of-type {\n",
       "        vertical-align: middle;\n",
       "    }\n",
       "\n",
       "    .dataframe tbody tr th {\n",
       "        vertical-align: top;\n",
       "    }\n",
       "\n",
       "    .dataframe thead th {\n",
       "        text-align: right;\n",
       "    }\n",
       "</style>\n",
       "<table border=\"1\" class=\"dataframe\">\n",
       "  <thead>\n",
       "    <tr style=\"text-align: right;\">\n",
       "      <th></th>\n",
       "      <th>int_column</th>\n",
       "      <th>float_column</th>\n",
       "      <th>string_column</th>\n",
       "      <th>binary_column</th>\n",
       "      <th>list_column</th>\n",
       "      <th>date_column</th>\n",
       "    </tr>\n",
       "  </thead>\n",
       "  <tbody>\n",
       "    <tr>\n",
       "      <th>i11</th>\n",
       "      <td>12</td>\n",
       "      <td>1.1</td>\n",
       "      <td>string_value_11</td>\n",
       "      <td>True</td>\n",
       "      <td>[11, 22, 33]</td>\n",
       "      <td>01/01/1911</td>\n",
       "    </tr>\n",
       "    <tr>\n",
       "      <th>i13</th>\n",
       "      <td>14</td>\n",
       "      <td>1.3</td>\n",
       "      <td>string_value_13</td>\n",
       "      <td>True</td>\n",
       "      <td>[13, 26, 39]</td>\n",
       "      <td>01/01/1913</td>\n",
       "    </tr>\n",
       "    <tr>\n",
       "      <th>i15</th>\n",
       "      <td>16</td>\n",
       "      <td>1.5</td>\n",
       "      <td>string_value_15</td>\n",
       "      <td>True</td>\n",
       "      <td>[15, 30, 45]</td>\n",
       "      <td>01/01/1915</td>\n",
       "    </tr>\n",
       "    <tr>\n",
       "      <th>i17</th>\n",
       "      <td>18</td>\n",
       "      <td>1.7</td>\n",
       "      <td>string_value_17</td>\n",
       "      <td>True</td>\n",
       "      <td>[17, 34, 51]</td>\n",
       "      <td>01/01/1917</td>\n",
       "    </tr>\n",
       "    <tr>\n",
       "      <th>i19</th>\n",
       "      <td>20</td>\n",
       "      <td>1.9</td>\n",
       "      <td>string_value_19</td>\n",
       "      <td>True</td>\n",
       "      <td>[19, 38, 57]</td>\n",
       "      <td>01/01/1919</td>\n",
       "    </tr>\n",
       "  </tbody>\n",
       "</table>\n",
       "</div>"
      ],
      "text/plain": [
       "     int_column  float_column    string_column  binary_column   list_column  \\\n",
       "i11          12           1.1  string_value_11           True  [11, 22, 33]   \n",
       "i13          14           1.3  string_value_13           True  [13, 26, 39]   \n",
       "i15          16           1.5  string_value_15           True  [15, 30, 45]   \n",
       "i17          18           1.7  string_value_17           True  [17, 34, 51]   \n",
       "i19          20           1.9  string_value_19           True  [19, 38, 57]   \n",
       "\n",
       "    date_column  \n",
       "i11  01/01/1911  \n",
       "i13  01/01/1913  \n",
       "i15  01/01/1915  \n",
       "i17  01/01/1917  \n",
       "i19  01/01/1919  "
      ]
     },
     "execution_count": 20,
     "metadata": {},
     "output_type": "execute_result"
    }
   ],
   "source": [
    "my_first_df[\n",
    "    (my_first_df.int_column %2 == 0)\n",
    "    &(my_first_df.string_column.str.len() > 14) # Ще покрием набора методи Series.str в повече дълбочина по-нататък.\n",
    "][:5]"
   ]
  },
  {
   "cell_type": "markdown",
   "metadata": {},
   "source": [
    "Обърнете внимание на начина по който се комбинират булеви условия: винаги трябва да използваме скоби и да комбинираме твърденията със знаци за булеви условия (& отговаря на AND, | отговаря на OR). Обикновено амперсандът е достатъчен."
   ]
  },
  {
   "cell_type": "markdown",
   "metadata": {},
   "source": [
    "#### Четене на готови рамки данни\n",
    "\n",
    "Една рамка данни може да бъде прочетена от разнообразни файлове, намиращи се в работната ни директория (.csv, .sav, .xls и т.н.). В случай че работите от Google Colab, директорията му съдържа няколко примерни набора данни, един от които са [сериите на Анскомб](https://en.wikipedia.org/wiki/Anscombe%27s_quartet). В случая използваме pd.read_json(), защото файлът ни е такъв, но ако искаме да отворим .csv ще използваме pd.read_csv() и т.н.\n",
    "\n",
    "Ако искате да заредите ваш собствен файл, влезте във Files и натиснете Upload to session storage.\n",
    "\n",
    "\n",
    "![Screenshot_2.png](data:image/png;base64,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)"
   ]
  },
  {
   "cell_type": "code",
   "execution_count": 21,
   "metadata": {},
   "outputs": [],
   "source": [
    "# df2 = pd.read_json('sample_data/anscombe.json')\n",
    "# df=pd.read_csv('my_csv_file.csv')"
   ]
  },
  {
   "cell_type": "markdown",
   "metadata": {},
   "source": [
    "Последно, рамка данни може да бъде внесена и от библиотека или ППИ:"
   ]
  },
  {
   "cell_type": "code",
   "execution_count": 22,
   "metadata": {},
   "outputs": [
    {
     "data": {
      "text/html": [
       "<div>\n",
       "<style scoped>\n",
       "    .dataframe tbody tr th:only-of-type {\n",
       "        vertical-align: middle;\n",
       "    }\n",
       "\n",
       "    .dataframe tbody tr th {\n",
       "        vertical-align: top;\n",
       "    }\n",
       "\n",
       "    .dataframe thead th {\n",
       "        text-align: right;\n",
       "    }\n",
       "</style>\n",
       "<table border=\"1\" class=\"dataframe\">\n",
       "  <thead>\n",
       "    <tr style=\"text-align: right;\">\n",
       "      <th></th>\n",
       "      <th>sepal_length</th>\n",
       "      <th>sepal_width</th>\n",
       "      <th>petal_length</th>\n",
       "      <th>petal_width</th>\n",
       "      <th>species</th>\n",
       "    </tr>\n",
       "  </thead>\n",
       "  <tbody>\n",
       "    <tr>\n",
       "      <th>0</th>\n",
       "      <td>5.1</td>\n",
       "      <td>3.5</td>\n",
       "      <td>1.4</td>\n",
       "      <td>0.2</td>\n",
       "      <td>setosa</td>\n",
       "    </tr>\n",
       "    <tr>\n",
       "      <th>1</th>\n",
       "      <td>4.9</td>\n",
       "      <td>3.0</td>\n",
       "      <td>1.4</td>\n",
       "      <td>0.2</td>\n",
       "      <td>setosa</td>\n",
       "    </tr>\n",
       "    <tr>\n",
       "      <th>2</th>\n",
       "      <td>4.7</td>\n",
       "      <td>3.2</td>\n",
       "      <td>1.3</td>\n",
       "      <td>0.2</td>\n",
       "      <td>setosa</td>\n",
       "    </tr>\n",
       "    <tr>\n",
       "      <th>3</th>\n",
       "      <td>4.6</td>\n",
       "      <td>3.1</td>\n",
       "      <td>1.5</td>\n",
       "      <td>0.2</td>\n",
       "      <td>setosa</td>\n",
       "    </tr>\n",
       "    <tr>\n",
       "      <th>4</th>\n",
       "      <td>5.0</td>\n",
       "      <td>3.6</td>\n",
       "      <td>1.4</td>\n",
       "      <td>0.2</td>\n",
       "      <td>setosa</td>\n",
       "    </tr>\n",
       "  </tbody>\n",
       "</table>\n",
       "</div>"
      ],
      "text/plain": [
       "   sepal_length  sepal_width  petal_length  petal_width species\n",
       "0           5.1          3.5           1.4          0.2  setosa\n",
       "1           4.9          3.0           1.4          0.2  setosa\n",
       "2           4.7          3.2           1.3          0.2  setosa\n",
       "3           4.6          3.1           1.5          0.2  setosa\n",
       "4           5.0          3.6           1.4          0.2  setosa"
      ]
     },
     "execution_count": 22,
     "metadata": {},
     "output_type": "execute_result"
    }
   ],
   "source": [
    "import seaborn as sns\n",
    "df3 = sns.load_dataset('iris')\n",
    "df3.head()"
   ]
  },
  {
   "cell_type": "markdown",
   "metadata": {},
   "source": [
    "### Задача\n",
    "\n",
    " - заредете набора данни ирис;\n",
    " - намерете средната дължина на близалцата (sepal_length);\n",
    " - намерете колко вида цветя има в набора;\n",
    " - намерете средната ширина на листата на подвида setosa."
   ]
  }
 ],
 "metadata": {
  "kernelspec": {
   "display_name": "base",
   "language": "python",
   "name": "python3"
  },
  "language_info": {
   "codemirror_mode": {
    "name": "ipython",
    "version": 3
   },
   "file_extension": ".py",
   "mimetype": "text/x-python",
   "name": "python",
   "nbconvert_exporter": "python",
   "pygments_lexer": "ipython3",
   "version": "3.9.12"
  }
 },
 "nbformat": 4,
 "nbformat_minor": 2
}
